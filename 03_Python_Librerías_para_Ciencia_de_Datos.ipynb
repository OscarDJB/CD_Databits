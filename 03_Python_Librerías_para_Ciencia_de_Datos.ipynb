{
  "cells": [
    {
      "cell_type": "markdown",
      "source": [
        "\n",
        "\n",
        "<div style=\"text-align: center; line-height: 0; padding-top: 9px;\">\n",
        "  <img src=\"https://storage.googleapis.com/datasets-academy/public-img/notebooks/headers/databits-header-notebook.png\" alt=\"Databricks Learning\" style=\"width: 100%;\">\n",
        "</div>"
      ],
      "metadata": {
        "application/vnd.databricks.v1+cell": {
          "title": "",
          "showTitle": false,
          "inputWidgets": {},
          "nuid": "cf58b9d0-b4c6-4dba-bd51-0f7bf80d4cea"
        },
        "id": "XHXOAwloMNIA"
      }
    },
    {
      "cell_type": "markdown",
      "source": [
        "\n",
        "\n",
        "# <center>  Librerías para Ciencia de Datos </center>\n",
        "\n",
        "## Descripción\n",
        "En esta lección se trabajará con las principales librerías enfocadas en Ciencia de Datos\n",
        "\n",
        "## Contenido\n",
        "\n",
        "* Arreglos n-dimensionales y operaciones con NumPy\n",
        "* Series y Dataframes con Pandas\n",
        "* Manipulación de DataFrames con Pandas\n",
        "\n",
        "\n",
        "## Audiencia\n",
        "\n",
        "* Audiencia primaria: Desarrolladores, Ingenieros y Científicos de datos y Analistas de BI\n",
        "\n",
        "## Requisitos previos\n",
        "\n",
        "* Conocimientos básicos de programación\n",
        "* Navegador web: Chrome\n",
        "\n",
        "<img alt=\"Caution\" title=\"Caution\" style=\"vertical-align: text-bottom; position: relative; height:1.3em; top:0.0em\" src=\"https://storage.googleapis.com/datasets-academy/public-img/notebooks/icons/danger.png\"/> **Disclaimer:** Este material ha sido preparado por el equipo de **handytec Academy®**. Se prohibe la publicación o reproducción de este material sin previa autorización de **handytec Academy®** - 2022 Todos los derechos reservados."
      ],
      "metadata": {
        "id": "XrIYsn5bmseb",
        "application/vnd.databricks.v1+cell": {
          "title": "",
          "showTitle": false,
          "inputWidgets": {},
          "nuid": "7b304884-8fdc-407b-939d-6d5fcf021973"
        }
      }
    },
    {
      "cell_type": "markdown",
      "source": [
        "### Programación orientada a objetos en Python\n",
        "\n",
        "#### Clases / Objetos\n",
        "En la verdadera programación orientada a objetos (OOP), el desarrollador escribe código en torno a cosas llamadas objetos. Un objeto (o una clase) agrupa datos y funciones que operan sobre esos datos. Es posible que conozca esta terminología de *C++* y otros lenguajes.\n",
        "\n",
        "#### Módulos\n",
        "Los módulos en Python contienen grandes cantidades de código que se encuentran relacionados. En la mayoría de los casos, poseen varias clases y funciones que abordan una necesidad particular. \n",
        "\n",
        "#### Librerías / Bibliotecas\n",
        "Las librerías pueden contener múltiples módulos que van juntos. Las librerías generalmente tiene una estructura de directorio específica."
      ],
      "metadata": {
        "application/vnd.databricks.v1+cell": {
          "title": "",
          "showTitle": false,
          "inputWidgets": {},
          "nuid": "18783605-2c3d-4c8a-98f1-b214ed5702c8"
        },
        "id": "l4ISvpbvMNIE"
      }
    },
    {
      "cell_type": "markdown",
      "source": [
        "### Importar Módulos\n",
        "Todo notebook debería empezar con una sección de código que importe los **módulos** que se emplearán.\n",
        "\n",
        "A continuación importaremos el módulo **numpy** y **pandas**. Estas son librerías comúnmente empleadas en el área de la Ciencia de Datos. \n",
        "\n",
        "De manera general, utilizaremos la estructura `import MODULE_NAME as MODULE_NICKNAME` para importar cualquier módulo que la programación requiera."
      ],
      "metadata": {
        "application/vnd.databricks.v1+cell": {
          "title": "",
          "showTitle": false,
          "inputWidgets": {},
          "nuid": "68f5ed88-bcce-4f43-9a02-dc313be93df3"
        },
        "id": "SJSIIgtyMNIE"
      }
    },
    {
      "cell_type": "code",
      "source": [
        "import numpy as np\n",
        "import pandas as pd"
      ],
      "metadata": {
        "application/vnd.databricks.v1+cell": {
          "title": "",
          "showTitle": false,
          "inputWidgets": {},
          "nuid": "38548a47-27e9-4382-8576-69329cf2a013"
        },
        "id": "RZ8FEIbiMNIF"
      },
      "outputs": [],
      "execution_count": 1
    },
    {
      "cell_type": "markdown",
      "source": [
        "### Buena práctica: verificar versión actual de librerías"
      ],
      "metadata": {
        "application/vnd.databricks.v1+cell": {
          "title": "",
          "showTitle": false,
          "inputWidgets": {},
          "nuid": "df6682e4-3192-401c-b612-d3e0fe870e63"
        },
        "id": "ZIZMki0VMNIG"
      }
    },
    {
      "cell_type": "code",
      "source": [
        "print('** Versiones Actuales | Requeridas **')\n",
        "print('NumPy: Version Actual:', np.__version__)\n",
        "print('Pandas: Version Actual:', pd.__version__)"
      ],
      "metadata": {
        "application/vnd.databricks.v1+cell": {
          "title": "",
          "showTitle": false,
          "inputWidgets": {},
          "nuid": "f3440800-1a93-4de1-96fa-aa1385e7aa00"
        },
        "colab": {
          "base_uri": "https://localhost:8080/"
        },
        "id": "PboJ3bnpMNIG",
        "outputId": "bc0ff704-465d-43a3-8109-a39c99b0efa4"
      },
      "outputs": [
        {
          "output_type": "stream",
          "name": "stdout",
          "text": [
            "** Versiones Actuales | Requeridas **\n",
            "NumPy: Version Actual: 1.19.5\n",
            "Pandas: Version Actual: 1.1.5\n"
          ]
        }
      ],
      "execution_count": 2
    },
    {
      "cell_type": "markdown",
      "source": [
        "## 1. Arreglos n-dimensionales y operaciones con NumPy\n",
        "NumPy es una librería optimizada para programación numérica a través de procesamiento de datos en arreglos multidimensionales. <br>\n",
        "\n",
        "Optimiza operaciones tradicionales que se realizan a través de bucles o tipos de datos primitivos, gracias a su mecanismo de procesar las operaciones a través de lotes en códigos optimizados en C y Fortran.\n",
        "\n",
        "[NumPy](https://numpy.org/devdocs/index.html) define estructuras de datos de tipo *ndarrays* : arreglos n-dimensionales.\n",
        "### 1.1 Arreglos en 1D:"
      ],
      "metadata": {
        "application/vnd.databricks.v1+cell": {
          "title": "",
          "showTitle": false,
          "inputWidgets": {},
          "nuid": "eec2757e-e64c-4145-a0d1-0c2754147c1f"
        },
        "id": "v78_FIp7MNIH"
      }
    },
    {
      "cell_type": "code",
      "source": [
        "# Emplear listas para la creación de ndarrays, por medio de la función np.array\n",
        "A = np.array([1, 2, 3, 5])\n",
        "print(A)\n",
        "print(type(A))"
      ],
      "metadata": {
        "application/vnd.databricks.v1+cell": {
          "title": "",
          "showTitle": false,
          "inputWidgets": {},
          "nuid": "e600a761-3a6d-4a09-b1fd-55caddcbb1d2"
        },
        "colab": {
          "base_uri": "https://localhost:8080/"
        },
        "id": "vWsDlg8-MNIH",
        "outputId": "02297c0d-6347-4dc2-b1d7-53c2e48d2d48"
      },
      "outputs": [
        {
          "output_type": "stream",
          "name": "stdout",
          "text": [
            "[1 2 3 5]\n",
            "<class 'numpy.ndarray'>\n"
          ]
        }
      ],
      "execution_count": 3
    },
    {
      "cell_type": "code",
      "source": [
        "# Métodos para analizar propiedades en un ndarray\n",
        "print ('Forma (filas, columnas): ', A.shape)\n",
        "print ('Número de dimensiones', A.ndim)\n",
        "print ('Tipo de dato: ', A.dtype)"
      ],
      "metadata": {
        "application/vnd.databricks.v1+cell": {
          "title": "",
          "showTitle": false,
          "inputWidgets": {},
          "nuid": "a8db5393-8f9f-4372-b919-6516fb2c283c"
        },
        "colab": {
          "base_uri": "https://localhost:8080/"
        },
        "id": "5ws730mhMNII",
        "outputId": "846229b8-dd60-491b-b0b7-eb47db6cf384"
      },
      "outputs": [
        {
          "output_type": "stream",
          "name": "stdout",
          "text": [
            "Forma (filas, columnas):  (4,)\n",
            "Número de dimensiones 1\n",
            "Tipo de dato:  int64\n"
          ]
        }
      ],
      "execution_count": 4
    },
    {
      "cell_type": "markdown",
      "source": [
        "Selección de elementos por indexado o slicing en un vector"
      ],
      "metadata": {
        "application/vnd.databricks.v1+cell": {
          "title": "",
          "showTitle": false,
          "inputWidgets": {},
          "nuid": "9c03887d-40a5-44fa-974f-157d10a30a68"
        },
        "id": "v3-TLECAMNII"
      }
    },
    {
      "cell_type": "code",
      "source": [
        "print(A[0])\n",
        "print(A[:3])"
      ],
      "metadata": {
        "application/vnd.databricks.v1+cell": {
          "title": "",
          "showTitle": false,
          "inputWidgets": {},
          "nuid": "25a697c7-57ca-4a74-b529-11d55556bc2e"
        },
        "colab": {
          "base_uri": "https://localhost:8080/"
        },
        "id": "OuK6QZBAMNIJ",
        "outputId": "4ded8204-3cd8-423e-bdb3-3ae19cbb7790"
      },
      "outputs": [
        {
          "output_type": "stream",
          "name": "stdout",
          "text": [
            "1\n",
            "[1 2 3]\n"
          ]
        }
      ],
      "execution_count": 5
    },
    {
      "cell_type": "markdown",
      "source": [
        "Operaciones aritméticas `(+ , - , *, /, //, **, %)`  en los ndarrays son de elemento a elemento con arreglos del mismo tamaño (caso contrario se aplica **broadcasting**)"
      ],
      "metadata": {
        "application/vnd.databricks.v1+cell": {
          "title": "",
          "showTitle": false,
          "inputWidgets": {},
          "nuid": "2d0c1b79-056f-49cd-9616-418704faae5d"
        },
        "id": "9oTTcsLtMNIJ"
      }
    },
    {
      "cell_type": "code",
      "source": [
        "A"
      ],
      "metadata": {
        "application/vnd.databricks.v1+cell": {
          "title": "",
          "showTitle": false,
          "inputWidgets": {},
          "nuid": "dd09cb9a-0f6b-4cac-ad2e-8931e305cf1b"
        },
        "colab": {
          "base_uri": "https://localhost:8080/"
        },
        "id": "igYmmRLoMNIJ",
        "outputId": "825bafa9-7f64-484f-eb27-ac37f0fdcc74"
      },
      "outputs": [
        {
          "output_type": "execute_result",
          "data": {
            "text/plain": [
              "array([1, 2, 3, 5])"
            ]
          },
          "metadata": {},
          "execution_count": 6
        }
      ],
      "execution_count": 6
    },
    {
      "cell_type": "code",
      "source": [
        "# Operaciones entre ndarrays\n",
        "A ** A"
      ],
      "metadata": {
        "application/vnd.databricks.v1+cell": {
          "title": "",
          "showTitle": false,
          "inputWidgets": {},
          "nuid": "eb486c35-47db-4dcd-8462-78d382350800"
        },
        "colab": {
          "base_uri": "https://localhost:8080/"
        },
        "id": "jWuTmE7nMNIJ",
        "outputId": "1cfd64a0-0f10-421b-998a-8c3d854efe33"
      },
      "outputs": [
        {
          "output_type": "execute_result",
          "data": {
            "text/plain": [
              "array([   1,    4,   27, 3125])"
            ]
          },
          "metadata": {},
          "execution_count": 7
        }
      ],
      "execution_count": 7
    },
    {
      "cell_type": "markdown",
      "source": [
        "### 1.2 Arreglos en 2D:"
      ],
      "metadata": {
        "application/vnd.databricks.v1+cell": {
          "title": "",
          "showTitle": false,
          "inputWidgets": {},
          "nuid": "1f51026f-8555-4bfa-9e1e-47f337113f03"
        },
        "id": "ix0w657AMNIK"
      }
    },
    {
      "cell_type": "code",
      "source": [
        "# Emplear una lista de listas para la creación de un ndarray de dos dimensiones\n",
        "T = np.array([[3, 4, 2], \n",
        "              [6, 1, 9],\n",
        "              [5, 7, 8]])\n",
        "print(T)"
      ],
      "metadata": {
        "application/vnd.databricks.v1+cell": {
          "title": "",
          "showTitle": false,
          "inputWidgets": {},
          "nuid": "5ceb8905-fc42-47a9-a130-39420b0ef1ba"
        },
        "colab": {
          "base_uri": "https://localhost:8080/"
        },
        "id": "lSLdIzchMNIK",
        "outputId": "b082d374-7449-411c-8577-2f15a5c60ced"
      },
      "outputs": [
        {
          "output_type": "stream",
          "name": "stdout",
          "text": [
            "[[3 4 2]\n",
            " [6 1 9]\n",
            " [5 7 8]]\n"
          ]
        }
      ],
      "execution_count": 8
    },
    {
      "cell_type": "code",
      "source": [
        "# Métodos para analizar propiedades en un ndarray\n",
        "print ('Forma (filas,cols): ', T.shape)\n",
        "print ('Número de dimesiones:', T.ndim)\n",
        "print ('Tipo dato de elementos: ', T.dtype)"
      ],
      "metadata": {
        "application/vnd.databricks.v1+cell": {
          "title": "",
          "showTitle": false,
          "inputWidgets": {},
          "nuid": "21325403-97f7-41b2-a9f4-1422365e748b"
        },
        "colab": {
          "base_uri": "https://localhost:8080/"
        },
        "id": "20yN4yBWMNIK",
        "outputId": "de8850ee-d158-47c4-9146-48af9dccde3a"
      },
      "outputs": [
        {
          "output_type": "stream",
          "name": "stdout",
          "text": [
            "Forma (filas,cols):  (3, 3)\n",
            "Número de dimesiones: 2\n",
            "Tipo dato de elementos:  int64\n"
          ]
        }
      ],
      "execution_count": 9
    },
    {
      "cell_type": "markdown",
      "source": [
        "Selección de elementos por indexado y slicing en una matriz"
      ],
      "metadata": {
        "application/vnd.databricks.v1+cell": {
          "title": "",
          "showTitle": false,
          "inputWidgets": {},
          "nuid": "04d969fd-0c50-49c4-971b-7a8c08a1aadb"
        },
        "id": "ulSwPx11MNIK"
      }
    },
    {
      "cell_type": "code",
      "source": [
        "# Selección de un elemento en una matriz: ndarray[filas][columnas]\n",
        "print(T[0][0])"
      ],
      "metadata": {
        "application/vnd.databricks.v1+cell": {
          "title": "",
          "showTitle": false,
          "inputWidgets": {},
          "nuid": "a533920d-15ed-440c-84b9-9f79a3b88538"
        },
        "colab": {
          "base_uri": "https://localhost:8080/"
        },
        "id": "kGKOJiThMNIK",
        "outputId": "1ad94fba-e9a9-4d0e-cb12-2aaed0546dac"
      },
      "outputs": [
        {
          "output_type": "stream",
          "name": "stdout",
          "text": [
            "3\n"
          ]
        }
      ],
      "execution_count": 10
    },
    {
      "cell_type": "code",
      "source": [
        "# Selección de varios elementos en una matriz: ndarray[filas, columnas]\n",
        "print(T[0:2, 0:2])"
      ],
      "metadata": {
        "application/vnd.databricks.v1+cell": {
          "title": "",
          "showTitle": false,
          "inputWidgets": {},
          "nuid": "6c6c8d73-1492-453e-8041-05f6b08097df"
        },
        "colab": {
          "base_uri": "https://localhost:8080/"
        },
        "id": "3PXcSr5AMNIL",
        "outputId": "a88bd726-3e10-45fd-8fed-6cf7c064613c"
      },
      "outputs": [
        {
          "output_type": "stream",
          "name": "stdout",
          "text": [
            "[[3 4]\n",
            " [6 1]]\n"
          ]
        }
      ],
      "execution_count": 11
    },
    {
      "cell_type": "markdown",
      "source": [
        "### 1.3 Funciones básicas en NumPy"
      ],
      "metadata": {
        "application/vnd.databricks.v1+cell": {
          "title": "",
          "showTitle": false,
          "inputWidgets": {},
          "nuid": "c577588d-0b8d-4a4e-aabb-0f17786f26a6"
        },
        "id": "IeMUhNa4MNIL"
      }
    },
    {
      "cell_type": "markdown",
      "source": [
        "Podemos especificar el tipo de dato requerido a través del parámetro **dtype**:"
      ],
      "metadata": {
        "application/vnd.databricks.v1+cell": {
          "title": "",
          "showTitle": false,
          "inputWidgets": {},
          "nuid": "bd48d6ea-b712-4ed7-a64f-1a7bab6eea7f"
        },
        "id": "Df6gihqXMNIL"
      }
    },
    {
      "cell_type": "code",
      "source": [
        "#Creación de ndarrays con valores de cero, empleando la función np.zeros\n",
        "cero_array = np.zeros((2,3), dtype = float)\n",
        "print(cero_array)"
      ],
      "metadata": {
        "application/vnd.databricks.v1+cell": {
          "title": "",
          "showTitle": false,
          "inputWidgets": {},
          "nuid": "8030487c-cff7-485d-a2d0-aa1f0cf6aad3"
        },
        "colab": {
          "base_uri": "https://localhost:8080/"
        },
        "id": "B05kXC4oMNIL",
        "outputId": "d92e2c97-5af8-4faa-8584-9c9244d03c81"
      },
      "outputs": [
        {
          "output_type": "stream",
          "name": "stdout",
          "text": [
            "[[0. 0. 0.]\n",
            " [0. 0. 0.]]\n"
          ]
        }
      ],
      "execution_count": 12
    },
    {
      "cell_type": "code",
      "source": [
        "#Creación de ndarrays con valores de cero, empleando la función np.ones\n",
        "uno_array = np.ones((3,4), dtype = int)\n",
        "print(uno_array)"
      ],
      "metadata": {
        "application/vnd.databricks.v1+cell": {
          "title": "",
          "showTitle": false,
          "inputWidgets": {},
          "nuid": "cf2cffa6-1199-4d38-8f51-327ce478a760"
        },
        "colab": {
          "base_uri": "https://localhost:8080/"
        },
        "id": "jt-oR2blMNIL",
        "outputId": "44709266-fd21-4cb5-c2e8-d010937efb66"
      },
      "outputs": [
        {
          "output_type": "stream",
          "name": "stdout",
          "text": [
            "[[1 1 1 1]\n",
            " [1 1 1 1]\n",
            " [1 1 1 1]]\n"
          ]
        }
      ],
      "execution_count": 13
    },
    {
      "cell_type": "code",
      "source": [
        "#Creación de un ndarray con un rango de valores, empleando la función np.arange(inicio, fin-1, step)\n",
        "rango = np.arange(0, 1, 0.1)\n",
        "print(rango)"
      ],
      "metadata": {
        "application/vnd.databricks.v1+cell": {
          "title": "",
          "showTitle": false,
          "inputWidgets": {},
          "nuid": "8a8fc54d-f969-4681-934f-8bb9d92de4f2"
        },
        "colab": {
          "base_uri": "https://localhost:8080/"
        },
        "id": "V4adOrATMNIL",
        "outputId": "7108b4b5-a81d-44a3-8ff9-46bb8f329b64"
      },
      "outputs": [
        {
          "output_type": "stream",
          "name": "stdout",
          "text": [
            "[0.  0.1 0.2 0.3 0.4 0.5 0.6 0.7 0.8 0.9]\n"
          ]
        }
      ],
      "execution_count": 14
    },
    {
      "cell_type": "markdown",
      "source": [
        "### 1.4 Métodos útiles para aplanar y cambiar la forma de un ndarray"
      ],
      "metadata": {
        "application/vnd.databricks.v1+cell": {
          "title": "",
          "showTitle": false,
          "inputWidgets": {},
          "nuid": "38b62ebe-e1d6-408a-878c-0f45f582e0a2"
        },
        "id": "LlJQXGC9MNIM"
      }
    },
    {
      "cell_type": "code",
      "source": [
        "# El método reshape permite cambiar la forma de un ndarray\n",
        "rango_reshape = rango.reshape(5, 2)\n",
        "print(rango_reshape)"
      ],
      "metadata": {
        "application/vnd.databricks.v1+cell": {
          "title": "",
          "showTitle": false,
          "inputWidgets": {},
          "nuid": "14a3e7e2-f572-471f-b5f8-af2764d405d8"
        },
        "colab": {
          "base_uri": "https://localhost:8080/"
        },
        "id": "GnQrtnRHMNIM",
        "outputId": "7156a87c-df5b-45f1-ef27-9632c53f7acf"
      },
      "outputs": [
        {
          "output_type": "stream",
          "name": "stdout",
          "text": [
            "[[0.  0.1]\n",
            " [0.2 0.3]\n",
            " [0.4 0.5]\n",
            " [0.6 0.7]\n",
            " [0.8 0.9]]\n"
          ]
        }
      ],
      "execution_count": 15
    },
    {
      "cell_type": "code",
      "source": [
        "# El método ravel permite aplanar un ndarray\n",
        "rango_flat = rango_reshape.ravel()\n",
        "print(rango_flat)"
      ],
      "metadata": {
        "application/vnd.databricks.v1+cell": {
          "title": "",
          "showTitle": false,
          "inputWidgets": {},
          "nuid": "a9dccd40-0102-406a-852f-4eb3b684f203"
        },
        "colab": {
          "base_uri": "https://localhost:8080/"
        },
        "id": "4RuPjdI3MNIM",
        "outputId": "82ce629d-083a-4e5e-aa20-581437e2e20a"
      },
      "outputs": [
        {
          "output_type": "stream",
          "name": "stdout",
          "text": [
            "[0.  0.1 0.2 0.3 0.4 0.5 0.6 0.7 0.8 0.9]\n"
          ]
        }
      ],
      "execution_count": 16
    },
    {
      "cell_type": "markdown",
      "source": [
        "### 1.5 Funciones estadísticas en NumPy"
      ],
      "metadata": {
        "application/vnd.databricks.v1+cell": {
          "title": "",
          "showTitle": false,
          "inputWidgets": {},
          "nuid": "41c639a3-8f8c-4f0c-b522-b620d087d126"
        },
        "id": "RiVCJd2HMNIM"
      }
    },
    {
      "cell_type": "markdown",
      "source": [
        "Al ser arreglos que pueden tener 1 o más dimensiones, las funciones pueden involucrar todos los elementos, o los elementos por cada una de las dimensiones.<br>\n",
        "A continuación algunas de las funciones más utilizados en NumPy (siendo X un ``ndarray``):\n",
        "    - Suma: np.sum(X)\n",
        "    - Raíz cuadrada: np.sqrt(X)\n",
        "    - Promedio: np.mean(X)\n",
        "    - Varianza: np.var(X)\n",
        "    - Ordenamiento: np.sort(X)\n",
        "    - Maximo, Minimo: np.max(X), np.min(X)\n",
        "    - Indice de posición del valor Maximo: np.argmax(X)\n",
        "    - Indice de posición del valor Minimo: np.argmin(X)"
      ],
      "metadata": {
        "application/vnd.databricks.v1+cell": {
          "title": "",
          "showTitle": false,
          "inputWidgets": {},
          "nuid": "69e76cf0-cbe9-411e-936b-f2a1eb260ead"
        },
        "id": "dgYpccezMNIM"
      }
    },
    {
      "cell_type": "code",
      "source": [
        "#La función np.random.randint genera números aleatorios enteros: np.random.randint(inicio, fin-1, (filas, columnas))\n",
        "np.random.seed(0)\n",
        "A = np.random.randint(1,5,(3,5)) \n",
        "print(A)"
      ],
      "metadata": {
        "application/vnd.databricks.v1+cell": {
          "title": "",
          "showTitle": false,
          "inputWidgets": {},
          "nuid": "07f8a891-1d85-46ed-a7b1-7f4049c00ca4"
        },
        "colab": {
          "base_uri": "https://localhost:8080/"
        },
        "id": "LL_KmP2BMNIM",
        "outputId": "ef5a122d-954b-4120-ff5e-51db98d2de66"
      },
      "outputs": [
        {
          "output_type": "stream",
          "name": "stdout",
          "text": [
            "[[1 4 2 1 4]\n",
            " [4 4 4 2 4]\n",
            " [2 3 1 4 3]]\n"
          ]
        }
      ],
      "execution_count": 17
    },
    {
      "cell_type": "code",
      "source": [
        "#SUMA TOTAL\n",
        "print(np.sum(A))"
      ],
      "metadata": {
        "application/vnd.databricks.v1+cell": {
          "title": "",
          "showTitle": false,
          "inputWidgets": {},
          "nuid": "98bb128a-a425-4bf4-9969-71f7be5b6e1a"
        },
        "colab": {
          "base_uri": "https://localhost:8080/"
        },
        "id": "5V6BY6CoMNIM",
        "outputId": "67694fc3-14bb-4545-b047-5a1dfc27157d"
      },
      "outputs": [
        {
          "output_type": "stream",
          "name": "stdout",
          "text": [
            "43\n"
          ]
        }
      ],
      "execution_count": 18
    },
    {
      "cell_type": "code",
      "source": [
        "#SUMA POR COLUMNAS\n",
        "print(np.sum(A, axis = 0))"
      ],
      "metadata": {
        "application/vnd.databricks.v1+cell": {
          "title": "",
          "showTitle": false,
          "inputWidgets": {},
          "nuid": "1355bedb-f107-4ea9-a899-85eed4480865"
        },
        "colab": {
          "base_uri": "https://localhost:8080/"
        },
        "id": "K0cRWjAHMNIN",
        "outputId": "bf5df089-c4b2-412a-ee10-23d77c7b6c2a"
      },
      "outputs": [
        {
          "output_type": "stream",
          "name": "stdout",
          "text": [
            "[ 7 11  7  7 11]\n"
          ]
        }
      ],
      "execution_count": 19
    },
    {
      "cell_type": "code",
      "source": [
        "#SUMA POR FILAS\n",
        "print(np.sum(A, axis = 1))"
      ],
      "metadata": {
        "application/vnd.databricks.v1+cell": {
          "title": "",
          "showTitle": false,
          "inputWidgets": {},
          "nuid": "bbb6f34f-3def-4aef-a186-8acff0fb87e2"
        },
        "colab": {
          "base_uri": "https://localhost:8080/"
        },
        "id": "5PcdjNt7MNIN",
        "outputId": "8e07748c-64cf-49dc-ddba-f64ab50d2968"
      },
      "outputs": [
        {
          "output_type": "stream",
          "name": "stdout",
          "text": [
            "[12 18 13]\n"
          ]
        }
      ],
      "execution_count": 20
    },
    {
      "cell_type": "markdown",
      "source": [
        "#### 1.6 Broadcasting\n",
        "\n",
        "Permite realizar operaciones aritméticas entre ndarrays de distintos tamaños\n",
        "\n",
        "![](https://www.astroml.org/_images/fig_broadcast_visual_1.png)"
      ],
      "metadata": {
        "application/vnd.databricks.v1+cell": {
          "title": "",
          "showTitle": false,
          "inputWidgets": {},
          "nuid": "9bd3c60d-1cce-49f9-9664-777ba0b32c80"
        },
        "id": "hu6TqvNPMNIN"
      }
    },
    {
      "cell_type": "code",
      "source": [
        "# Operación de un ndarray con un escalar\n",
        "np.arange(3) + 5"
      ],
      "metadata": {
        "application/vnd.databricks.v1+cell": {
          "title": "",
          "showTitle": false,
          "inputWidgets": {},
          "nuid": "34811c8a-1fdd-4bba-9e5d-c7a2dde76ccd"
        },
        "colab": {
          "base_uri": "https://localhost:8080/"
        },
        "id": "ohNmLCAmMNIN",
        "outputId": "8b035ca6-4d55-4a85-bb36-b5c937a73513"
      },
      "outputs": [
        {
          "output_type": "execute_result",
          "data": {
            "text/plain": [
              "array([5, 6, 7])"
            ]
          },
          "metadata": {},
          "execution_count": 21
        }
      ],
      "execution_count": 21
    },
    {
      "cell_type": "markdown",
      "source": [
        "## 2. Series y Dataframes con Pandas\n",
        "\n",
        "Nos gustaría una estructura de datos que pueda almacenar fácilmente variables de diferentes tipos, que almacene nombres de columnas, y en la que podamos hacer referencia por nombre de columna así como por posición indexada. Y sería bueno si esta estructura de datos viniera con funciones integradas que podamos usar para manipularla.\n",
        "\n",
        "`Pandas` es una librería que hace todo esto! La librería está construida sobre `numpy`.\n",
        "\n",
        "Existen dos objetos `pandas` básicos, *series* y *dataframes*, que se pueden considerar como versiones mejoradas de arreglos 1D y 2D `numpy`, respectivamente. \n",
        "\n",
        "Para referencia `pandas` [cheatsheet](https://pandas.pydata.org/Pandas_Cheat_Sheet.pdf) y `pandas` [documentación](https://pandas.pydata.org/pandas-docs/stable/)."
      ],
      "metadata": {
        "collapsed": true,
        "application/vnd.databricks.v1+cell": {
          "title": "",
          "showTitle": false,
          "inputWidgets": {},
          "nuid": "2887b111-9a6a-42d5-8a99-6551b66f862d"
        },
        "id": "z2Ewo1LWMNIN"
      }
    },
    {
      "cell_type": "markdown",
      "source": [
        "**Importancia de Pandas**\n",
        "*    Lectura y escritura de datos \n",
        "*    Modificación de índices y etiquetas de las columnas\n",
        "*    Trabajo con fechas\n",
        "*    Ordenamiento, agrupación y tratamiento de valores faltantes (curación de datos)\n",
        "    \n",
        "Para importar este módulo utilizamos el comando: ```import pandas as pd```"
      ],
      "metadata": {
        "application/vnd.databricks.v1+cell": {
          "title": "",
          "showTitle": false,
          "inputWidgets": {},
          "nuid": "0f25b9f2-7098-4bd7-8c28-339a9658099b"
        },
        "id": "ePnx2w9jMNIN"
      }
    },
    {
      "cell_type": "markdown",
      "source": [
        "### 2.1 Pandas - Series"
      ],
      "metadata": {
        "application/vnd.databricks.v1+cell": {
          "title": "",
          "showTitle": false,
          "inputWidgets": {},
          "nuid": "7956f94d-807b-47af-b521-70316dcd2caa"
        },
        "id": "5uiey9d8MNIO"
      }
    },
    {
      "cell_type": "markdown",
      "source": [
        "Una Serie es una colección de observaciones de una variable individual. <br>\n",
        "\n",
        "Se puede pensar en una Serie como los datos en un arreglo de 1D.\n",
        "\n",
        "En la serie ``items``, cada uno de los índices del 0 al 4 son los identificadores de 5 productos diferentes y los valores float representan el precio unitario correspondiente a cada uno."
      ],
      "metadata": {
        "application/vnd.databricks.v1+cell": {
          "title": "",
          "showTitle": false,
          "inputWidgets": {},
          "nuid": "fcb28bbd-4c9f-428d-a45c-bc7f2d945db1"
        },
        "id": "I5b3QtIWMNIO"
      }
    },
    {
      "cell_type": "code",
      "source": [
        "# Usamos el constructor pd.Series\n",
        "items = pd.Series(data = np.array([2, 3, 8, 6, 7]) * 10, name = 'precios', index = ['veg1','cer1','frut1','frut2','frut3'])\n",
        "print(items)"
      ],
      "metadata": {
        "application/vnd.databricks.v1+cell": {
          "title": "",
          "showTitle": false,
          "inputWidgets": {},
          "nuid": "5fa90f82-db3e-41ee-b992-b97765670767"
        },
        "colab": {
          "base_uri": "https://localhost:8080/"
        },
        "id": "Tm96Xe62MNIO",
        "outputId": "6835ac4c-ac81-426a-cfc1-2b80f6c65971"
      },
      "outputs": [
        {
          "output_type": "stream",
          "name": "stdout",
          "text": [
            "veg1     20\n",
            "cer1     30\n",
            "frut1    80\n",
            "frut2    60\n",
            "frut3    70\n",
            "Name: precios, dtype: int64\n"
          ]
        }
      ],
      "execution_count": 22
    },
    {
      "cell_type": "markdown",
      "source": [
        "**Importante**: las Series están implementadas sobre arreglos NumPy. Esto les permite soportar operaciones válidas con estos arreglos. En el ejemplo tenemos el caso de la multiplicación de un arreglo de 1D por un escalar."
      ],
      "metadata": {
        "application/vnd.databricks.v1+cell": {
          "title": "",
          "showTitle": false,
          "inputWidgets": {},
          "nuid": "1dcdf253-d347-47d4-9d5d-6fbd6319d3bf"
        },
        "id": "q1auIPzCMNIO"
      }
    },
    {
      "cell_type": "markdown",
      "source": [
        "Método útiles de las Series de Pandas"
      ],
      "metadata": {
        "application/vnd.databricks.v1+cell": {
          "title": "",
          "showTitle": false,
          "inputWidgets": {},
          "nuid": "a4713ea8-f152-4c19-bfb5-72a20f3080f0"
        },
        "id": "53VxQCaqMNIO"
      }
    },
    {
      "cell_type": "code",
      "source": [
        "print('Obtener los índices:', items.index)\n",
        "print('Obtener los valores:', items.values)\n",
        "print('Obtener tipo de dato:', items.dtypes)"
      ],
      "metadata": {
        "application/vnd.databricks.v1+cell": {
          "title": "",
          "showTitle": false,
          "inputWidgets": {},
          "nuid": "438e713d-9210-46ee-b4bb-c873e108bd5b"
        },
        "colab": {
          "base_uri": "https://localhost:8080/"
        },
        "id": "m1bkFfWoMNIO",
        "outputId": "df1f544f-db03-4c79-f01a-02a3fc4f3fd1"
      },
      "outputs": [
        {
          "output_type": "stream",
          "name": "stdout",
          "text": [
            "Obtener los índices: Index(['veg1', 'cer1', 'frut1', 'frut2', 'frut3'], dtype='object')\n",
            "Obtener los valores: [20 30 80 60 70]\n",
            "Obtener tipo de dato: int64\n"
          ]
        }
      ],
      "execution_count": 23
    },
    {
      "cell_type": "markdown",
      "source": [
        "### 2.2 Pandas - DataFrames: creación, propiedades y funciones"
      ],
      "metadata": {
        "application/vnd.databricks.v1+cell": {
          "title": "",
          "showTitle": false,
          "inputWidgets": {},
          "nuid": "55f86209-ef0f-4fd1-9cb2-650f0a0a2be6"
        },
        "id": "WpuSJtmeMNIO"
      }
    },
    {
      "cell_type": "markdown",
      "source": [
        "Un DataFrame de Pandas es un objeto que permite guardar datos en varias columnas que estan mutuamente relacionadas. \n",
        "\n",
        "Podemos pensar un DataFrame como una hoja de datos de Excel altamente optimizada. Los DataFrames estan compuestos por filas y columnas.\n",
        "\n",
        "Pandas posee múltiples funciones para cargar varios tipos de archivos: pd.read_csv, pd.read_excel, pd.read_json, pd.read_parquet, etc.\n",
        "\n",
        "\n",
        "### Lectura de datos en un DataFrame\n",
        "\n",
        "A continuación, iniciaremos leyendo los datos del archivo en formato csv en un DataFrame. <br>\n",
        "\n",
        "Este archivo contiene una muestra de datos de 'Penn World Table' con diferentes indicadores socioeconómicos de los países en diferentes años. \n",
        "\n",
        "<a href='https://storage.googleapis.com/datasets-academy/Track%20Data%20Science/01_Intro_Python/PWT91.csv'>\n",
        "  Link para descargar el dataset PWT</a>"
      ],
      "metadata": {
        "application/vnd.databricks.v1+cell": {
          "title": "",
          "showTitle": false,
          "inputWidgets": {},
          "nuid": "07533dae-3aad-4f7c-80d0-d2d600fbc410"
        },
        "id": "m29wTduqMNIO"
      }
    },
    {
      "cell_type": "markdown",
      "source": [
        "**Diccionario de datos:**\n",
        "\n",
        "**countrycode:** Código estándar ISO 3166-1 alfa-3, proporciona códigos para los nombres de países por medio de tres letras<br>\n",
        "**country:** Nombre del país <br>\n",
        "**year:** Año <br>\n",
        "**rgdpo:** Producto Interno Bruto Real calculado mediante la PPA (pariedad de poder adquisitivo) con año base 2011 (en millones dólares) <br>\n",
        "**pop:** Población (millones de personas) <br>\n",
        "**emp:** Personas de 15 años y más que durante la semana trabajaron incluso solo durante una hora, o no estaban en el trabajo pero tenían un trabajo o negocio del que estaban temporalmente ausentes (millones de personas) <br>\n",
        "**avh:** Promedio de horas anuales trabajadas por personas que cumplan la condición de la variable emp <br>\n",
        "**hc:** Índice de capital humano por persona, que se relaciona con los años promedio de escolaridad y el retorno a la educación"
      ],
      "metadata": {
        "application/vnd.databricks.v1+cell": {
          "title": "",
          "showTitle": false,
          "inputWidgets": {},
          "nuid": "c632a04b-0165-45cc-a2d0-ce85a0ee8a05"
        },
        "id": "svdrM_Y-MNIO"
      }
    },
    {
      "cell_type": "code",
      "source": [
        "# Nomeclatura estándar para el nombre de un Dataframe se abrevia con df\n",
        "df = pd.read_csv(filepath_or_buffer = 'https://storage.googleapis.com/datasets-academy/Track%20Data%20Science/01_Intro_Python/PWT91.csv', \n",
        "                 sep = ',', \n",
        "                 decimal = '.')\n",
        "\n",
        "# El método head permite observar las primeras 5 filas del dataframe\n",
        "df.head()"
      ],
      "metadata": {
        "application/vnd.databricks.v1+cell": {
          "title": "",
          "showTitle": false,
          "inputWidgets": {},
          "nuid": "e893cc44-7161-488b-9cbe-ce97c6a6a720"
        },
        "colab": {
          "base_uri": "https://localhost:8080/",
          "height": 206
        },
        "id": "3U4V6qGMMNIO",
        "outputId": "8df61ecb-28a1-46e6-c162-767c6d0a3049"
      },
      "outputs": [
        {
          "output_type": "execute_result",
          "data": {
            "text/html": [
              "\n",
              "  <div id=\"df-3b6c4681-1892-4135-83b9-b3fdd5ee58b1\">\n",
              "    <div class=\"colab-df-container\">\n",
              "      <div>\n",
              "<style scoped>\n",
              "    .dataframe tbody tr th:only-of-type {\n",
              "        vertical-align: middle;\n",
              "    }\n",
              "\n",
              "    .dataframe tbody tr th {\n",
              "        vertical-align: top;\n",
              "    }\n",
              "\n",
              "    .dataframe thead th {\n",
              "        text-align: right;\n",
              "    }\n",
              "</style>\n",
              "<table border=\"1\" class=\"dataframe\">\n",
              "  <thead>\n",
              "    <tr style=\"text-align: right;\">\n",
              "      <th></th>\n",
              "      <th>countrycode</th>\n",
              "      <th>country</th>\n",
              "      <th>year</th>\n",
              "      <th>rgdpo</th>\n",
              "      <th>pop</th>\n",
              "      <th>emp</th>\n",
              "      <th>avh</th>\n",
              "      <th>hc</th>\n",
              "    </tr>\n",
              "  </thead>\n",
              "  <tbody>\n",
              "    <tr>\n",
              "      <th>0</th>\n",
              "      <td>ABW</td>\n",
              "      <td>Aruba</td>\n",
              "      <td>1950</td>\n",
              "      <td>NaN</td>\n",
              "      <td>NaN</td>\n",
              "      <td>NaN</td>\n",
              "      <td>NaN</td>\n",
              "      <td>NaN</td>\n",
              "    </tr>\n",
              "    <tr>\n",
              "      <th>1</th>\n",
              "      <td>ABW</td>\n",
              "      <td>Aruba</td>\n",
              "      <td>1951</td>\n",
              "      <td>NaN</td>\n",
              "      <td>NaN</td>\n",
              "      <td>NaN</td>\n",
              "      <td>NaN</td>\n",
              "      <td>NaN</td>\n",
              "    </tr>\n",
              "    <tr>\n",
              "      <th>2</th>\n",
              "      <td>ABW</td>\n",
              "      <td>Aruba</td>\n",
              "      <td>1952</td>\n",
              "      <td>NaN</td>\n",
              "      <td>NaN</td>\n",
              "      <td>NaN</td>\n",
              "      <td>NaN</td>\n",
              "      <td>NaN</td>\n",
              "    </tr>\n",
              "    <tr>\n",
              "      <th>3</th>\n",
              "      <td>ABW</td>\n",
              "      <td>Aruba</td>\n",
              "      <td>1953</td>\n",
              "      <td>NaN</td>\n",
              "      <td>NaN</td>\n",
              "      <td>NaN</td>\n",
              "      <td>NaN</td>\n",
              "      <td>NaN</td>\n",
              "    </tr>\n",
              "    <tr>\n",
              "      <th>4</th>\n",
              "      <td>ABW</td>\n",
              "      <td>Aruba</td>\n",
              "      <td>1954</td>\n",
              "      <td>NaN</td>\n",
              "      <td>NaN</td>\n",
              "      <td>NaN</td>\n",
              "      <td>NaN</td>\n",
              "      <td>NaN</td>\n",
              "    </tr>\n",
              "  </tbody>\n",
              "</table>\n",
              "</div>\n",
              "      <button class=\"colab-df-convert\" onclick=\"convertToInteractive('df-3b6c4681-1892-4135-83b9-b3fdd5ee58b1')\"\n",
              "              title=\"Convert this dataframe to an interactive table.\"\n",
              "              style=\"display:none;\">\n",
              "        \n",
              "  <svg xmlns=\"http://www.w3.org/2000/svg\" height=\"24px\"viewBox=\"0 0 24 24\"\n",
              "       width=\"24px\">\n",
              "    <path d=\"M0 0h24v24H0V0z\" fill=\"none\"/>\n",
              "    <path d=\"M18.56 5.44l.94 2.06.94-2.06 2.06-.94-2.06-.94-.94-2.06-.94 2.06-2.06.94zm-11 1L8.5 8.5l.94-2.06 2.06-.94-2.06-.94L8.5 2.5l-.94 2.06-2.06.94zm10 10l.94 2.06.94-2.06 2.06-.94-2.06-.94-.94-2.06-.94 2.06-2.06.94z\"/><path d=\"M17.41 7.96l-1.37-1.37c-.4-.4-.92-.59-1.43-.59-.52 0-1.04.2-1.43.59L10.3 9.45l-7.72 7.72c-.78.78-.78 2.05 0 2.83L4 21.41c.39.39.9.59 1.41.59.51 0 1.02-.2 1.41-.59l7.78-7.78 2.81-2.81c.8-.78.8-2.07 0-2.86zM5.41 20L4 18.59l7.72-7.72 1.47 1.35L5.41 20z\"/>\n",
              "  </svg>\n",
              "      </button>\n",
              "      \n",
              "  <style>\n",
              "    .colab-df-container {\n",
              "      display:flex;\n",
              "      flex-wrap:wrap;\n",
              "      gap: 12px;\n",
              "    }\n",
              "\n",
              "    .colab-df-convert {\n",
              "      background-color: #E8F0FE;\n",
              "      border: none;\n",
              "      border-radius: 50%;\n",
              "      cursor: pointer;\n",
              "      display: none;\n",
              "      fill: #1967D2;\n",
              "      height: 32px;\n",
              "      padding: 0 0 0 0;\n",
              "      width: 32px;\n",
              "    }\n",
              "\n",
              "    .colab-df-convert:hover {\n",
              "      background-color: #E2EBFA;\n",
              "      box-shadow: 0px 1px 2px rgba(60, 64, 67, 0.3), 0px 1px 3px 1px rgba(60, 64, 67, 0.15);\n",
              "      fill: #174EA6;\n",
              "    }\n",
              "\n",
              "    [theme=dark] .colab-df-convert {\n",
              "      background-color: #3B4455;\n",
              "      fill: #D2E3FC;\n",
              "    }\n",
              "\n",
              "    [theme=dark] .colab-df-convert:hover {\n",
              "      background-color: #434B5C;\n",
              "      box-shadow: 0px 1px 3px 1px rgba(0, 0, 0, 0.15);\n",
              "      filter: drop-shadow(0px 1px 2px rgba(0, 0, 0, 0.3));\n",
              "      fill: #FFFFFF;\n",
              "    }\n",
              "  </style>\n",
              "\n",
              "      <script>\n",
              "        const buttonEl =\n",
              "          document.querySelector('#df-3b6c4681-1892-4135-83b9-b3fdd5ee58b1 button.colab-df-convert');\n",
              "        buttonEl.style.display =\n",
              "          google.colab.kernel.accessAllowed ? 'block' : 'none';\n",
              "\n",
              "        async function convertToInteractive(key) {\n",
              "          const element = document.querySelector('#df-3b6c4681-1892-4135-83b9-b3fdd5ee58b1');\n",
              "          const dataTable =\n",
              "            await google.colab.kernel.invokeFunction('convertToInteractive',\n",
              "                                                     [key], {});\n",
              "          if (!dataTable) return;\n",
              "\n",
              "          const docLinkHtml = 'Like what you see? Visit the ' +\n",
              "            '<a target=\"_blank\" href=https://colab.research.google.com/notebooks/data_table.ipynb>data table notebook</a>'\n",
              "            + ' to learn more about interactive tables.';\n",
              "          element.innerHTML = '';\n",
              "          dataTable['output_type'] = 'display_data';\n",
              "          await google.colab.output.renderOutput(dataTable, element);\n",
              "          const docLink = document.createElement('div');\n",
              "          docLink.innerHTML = docLinkHtml;\n",
              "          element.appendChild(docLink);\n",
              "        }\n",
              "      </script>\n",
              "    </div>\n",
              "  </div>\n",
              "  "
            ],
            "text/plain": [
              "  countrycode country  year  rgdpo  pop  emp  avh  hc\n",
              "0         ABW   Aruba  1950    NaN  NaN  NaN  NaN NaN\n",
              "1         ABW   Aruba  1951    NaN  NaN  NaN  NaN NaN\n",
              "2         ABW   Aruba  1952    NaN  NaN  NaN  NaN NaN\n",
              "3         ABW   Aruba  1953    NaN  NaN  NaN  NaN NaN\n",
              "4         ABW   Aruba  1954    NaN  NaN  NaN  NaN NaN"
            ]
          },
          "metadata": {},
          "execution_count": 24
        }
      ],
      "execution_count": 24
    },
    {
      "cell_type": "markdown",
      "source": [
        "**Fuente**: Feenstra, Robert C., Robert Inklaar and Marcel P. Timmer (2015), \"The Next Generation of the Penn World Table\" American Economic Review, 105(10), 3150-3182, available for download at www.ggdc.net/pwt"
      ],
      "metadata": {
        "application/vnd.databricks.v1+cell": {
          "title": "",
          "showTitle": false,
          "inputWidgets": {},
          "nuid": "6f21770a-5b59-4153-b7e6-ed421c2ea33c"
        },
        "id": "yiTplqKOMNIP"
      }
    },
    {
      "cell_type": "markdown",
      "source": [
        "Lo que tenemos ahora es una hoja de cálculo con filas indexadas y columnas nombradas, llamada `df`. **Importante**: Las columnas son *series de pandas*."
      ],
      "metadata": {
        "application/vnd.databricks.v1+cell": {
          "title": "",
          "showTitle": false,
          "inputWidgets": {},
          "nuid": "bc65aa5e-17f7-4e35-b2ce-281e2e5f97af"
        },
        "id": "TkezfHI_MNIP"
      }
    },
    {
      "cell_type": "code",
      "source": [
        "# Comprobamos las dimensiones del Dataframe (filas, columnas)\n",
        "df.shape"
      ],
      "metadata": {
        "application/vnd.databricks.v1+cell": {
          "title": "",
          "showTitle": false,
          "inputWidgets": {},
          "nuid": "8e75cb55-d9f5-4827-8397-570f06457355"
        },
        "colab": {
          "base_uri": "https://localhost:8080/"
        },
        "id": "TNIceafFMNIP",
        "outputId": "d1bcf271-e2f4-493b-9ebe-d3f821ccb074"
      },
      "outputs": [
        {
          "output_type": "execute_result",
          "data": {
            "text/plain": [
              "(12376, 8)"
            ]
          },
          "metadata": {},
          "execution_count": 25
        }
      ],
      "execution_count": 25
    },
    {
      "cell_type": "code",
      "source": [
        "print(type(df))"
      ],
      "metadata": {
        "application/vnd.databricks.v1+cell": {
          "title": "",
          "showTitle": false,
          "inputWidgets": {},
          "nuid": "df65f53a-9c27-47c3-a89c-9f3193d24ce0"
        },
        "colab": {
          "base_uri": "https://localhost:8080/"
        },
        "id": "BhiwhtDYMNIP",
        "outputId": "014cc9ae-bbf3-4fe9-c70e-3ed41fb0bea0"
      },
      "outputs": [
        {
          "output_type": "stream",
          "name": "stdout",
          "text": [
            "<class 'pandas.core.frame.DataFrame'>\n"
          ]
        }
      ],
      "execution_count": 26
    },
    {
      "cell_type": "markdown",
      "source": [
        "La función `pd.read_csv` infiere el tipo de datos por defecto"
      ],
      "metadata": {
        "application/vnd.databricks.v1+cell": {
          "title": "",
          "showTitle": false,
          "inputWidgets": {},
          "nuid": "7c6ef21d-6150-4ce8-b8ce-e3eeab2f860f"
        },
        "id": "_OKByOvCMNIP"
      }
    },
    {
      "cell_type": "code",
      "source": [
        "# Comprobamos el tipo de las variables en el dataframe\n",
        "print(df.dtypes)"
      ],
      "metadata": {
        "application/vnd.databricks.v1+cell": {
          "title": "",
          "showTitle": false,
          "inputWidgets": {},
          "nuid": "089a979e-7651-4328-83b4-e8445e28edb7"
        },
        "colab": {
          "base_uri": "https://localhost:8080/"
        },
        "id": "ulbrdhgkMNIP",
        "outputId": "238dcd28-9739-449e-f0f0-dcc2c6cd73c1"
      },
      "outputs": [
        {
          "output_type": "stream",
          "name": "stdout",
          "text": [
            "countrycode     object\n",
            "country         object\n",
            "year             int64\n",
            "rgdpo          float64\n",
            "pop            float64\n",
            "emp            float64\n",
            "avh            float64\n",
            "hc             float64\n",
            "dtype: object\n"
          ]
        }
      ],
      "execution_count": 27
    },
    {
      "cell_type": "markdown",
      "source": [
        "Podemos cambiar el tipo de las columnas:\n",
        "- Convertir la columna year para que sea tipo datetime, para una mayor información sobre los tipos de [formatos fecha](https://strftime.org/)\n",
        "- Convertir la columna pop (población)"
      ],
      "metadata": {
        "application/vnd.databricks.v1+cell": {
          "title": "",
          "showTitle": false,
          "inputWidgets": {},
          "nuid": "361364af-72e6-402a-bf8b-73e14269062c"
        },
        "id": "7E4EqlYNMNIP"
      }
    },
    {
      "cell_type": "code",
      "source": [
        "df['year']"
      ],
      "metadata": {
        "application/vnd.databricks.v1+cell": {
          "title": "",
          "showTitle": false,
          "inputWidgets": {},
          "nuid": "9c5e865b-ab12-4f23-bf14-1333c42b1ffd"
        },
        "colab": {
          "base_uri": "https://localhost:8080/"
        },
        "id": "pCA71qPpMNIP",
        "outputId": "d81f31a6-73be-4422-813a-6a7dc2201463"
      },
      "outputs": [
        {
          "output_type": "execute_result",
          "data": {
            "text/plain": [
              "0        1950\n",
              "1        1951\n",
              "2        1952\n",
              "3        1953\n",
              "4        1954\n",
              "         ... \n",
              "12371    2013\n",
              "12372    2014\n",
              "12373    2015\n",
              "12374    2016\n",
              "12375    2017\n",
              "Name: year, Length: 12376, dtype: int64"
            ]
          },
          "metadata": {},
          "execution_count": 28
        }
      ],
      "execution_count": 28
    },
    {
      "cell_type": "code",
      "source": [
        "df['year'] = pd.to_datetime(df['year'], format = '%Y')\n",
        "df['pop']  = df['pop'].fillna(0).astype(int)\n",
        "df.dtypes"
      ],
      "metadata": {
        "application/vnd.databricks.v1+cell": {
          "title": "",
          "showTitle": false,
          "inputWidgets": {},
          "nuid": "d126d61e-97d0-4d20-afeb-5e810a2b6fbc"
        },
        "colab": {
          "base_uri": "https://localhost:8080/"
        },
        "id": "-MC8w2MdMNIP",
        "outputId": "543fd206-761a-4f0d-9175-bc3d2f5a7c41"
      },
      "outputs": [
        {
          "output_type": "execute_result",
          "data": {
            "text/plain": [
              "countrycode            object\n",
              "country                object\n",
              "year           datetime64[ns]\n",
              "rgdpo                 float64\n",
              "pop                     int64\n",
              "emp                   float64\n",
              "avh                   float64\n",
              "hc                    float64\n",
              "dtype: object"
            ]
          },
          "metadata": {},
          "execution_count": 29
        }
      ],
      "execution_count": 29
    },
    {
      "cell_type": "markdown",
      "source": [
        "## 3. Manipulación de DataFrames con Pandas"
      ],
      "metadata": {
        "application/vnd.databricks.v1+cell": {
          "title": "",
          "showTitle": false,
          "inputWidgets": {},
          "nuid": "12ab6717-ec65-4070-99a7-0fe0cef618f8"
        },
        "id": "r7nNAdn0MNIQ"
      }
    },
    {
      "cell_type": "markdown",
      "source": [
        "### Selección de filas y columnas de un DataFrame utilizando ```iloc```\n",
        "Cuando queremos seleccionar filas y columnas de acuerdo a la posición del índice, utilizamos el atributo:<br>\n",
        "```iloc[indiceInicioFilas:indiceFinFilas-1 , indiceInicioCols:indiceFinCols-1]```"
      ],
      "metadata": {
        "application/vnd.databricks.v1+cell": {
          "title": "",
          "showTitle": false,
          "inputWidgets": {},
          "nuid": "8b29c163-eeaf-482e-b581-c8bf0bc9f1b7"
        },
        "id": "IZL6y9LxMNIQ"
      }
    },
    {
      "cell_type": "code",
      "source": [
        "#Seleccion de las filas por posición y las tres primeras columnas\n",
        "df.iloc[2300:2303, :3]"
      ],
      "metadata": {
        "application/vnd.databricks.v1+cell": {
          "title": "",
          "showTitle": false,
          "inputWidgets": {},
          "nuid": "9ac200b1-dbb6-4676-bc07-740085ed4fd9"
        },
        "colab": {
          "base_uri": "https://localhost:8080/",
          "height": 143
        },
        "id": "0x5M4DN1MNIQ",
        "outputId": "80c29435-ffaf-4503-de9e-8ec208428915"
      },
      "outputs": [
        {
          "output_type": "execute_result",
          "data": {
            "text/html": [
              "\n",
              "  <div id=\"df-aa3eff3d-b360-4546-aa1a-e038c71f9504\">\n",
              "    <div class=\"colab-df-container\">\n",
              "      <div>\n",
              "<style scoped>\n",
              "    .dataframe tbody tr th:only-of-type {\n",
              "        vertical-align: middle;\n",
              "    }\n",
              "\n",
              "    .dataframe tbody tr th {\n",
              "        vertical-align: top;\n",
              "    }\n",
              "\n",
              "    .dataframe thead th {\n",
              "        text-align: right;\n",
              "    }\n",
              "</style>\n",
              "<table border=\"1\" class=\"dataframe\">\n",
              "  <thead>\n",
              "    <tr style=\"text-align: right;\">\n",
              "      <th></th>\n",
              "      <th>countrycode</th>\n",
              "      <th>country</th>\n",
              "      <th>year</th>\n",
              "    </tr>\n",
              "  </thead>\n",
              "  <tbody>\n",
              "    <tr>\n",
              "      <th>2300</th>\n",
              "      <td>CHN</td>\n",
              "      <td>China</td>\n",
              "      <td>2006-01-01</td>\n",
              "    </tr>\n",
              "    <tr>\n",
              "      <th>2301</th>\n",
              "      <td>CHN</td>\n",
              "      <td>China</td>\n",
              "      <td>2007-01-01</td>\n",
              "    </tr>\n",
              "    <tr>\n",
              "      <th>2302</th>\n",
              "      <td>CHN</td>\n",
              "      <td>China</td>\n",
              "      <td>2008-01-01</td>\n",
              "    </tr>\n",
              "  </tbody>\n",
              "</table>\n",
              "</div>\n",
              "      <button class=\"colab-df-convert\" onclick=\"convertToInteractive('df-aa3eff3d-b360-4546-aa1a-e038c71f9504')\"\n",
              "              title=\"Convert this dataframe to an interactive table.\"\n",
              "              style=\"display:none;\">\n",
              "        \n",
              "  <svg xmlns=\"http://www.w3.org/2000/svg\" height=\"24px\"viewBox=\"0 0 24 24\"\n",
              "       width=\"24px\">\n",
              "    <path d=\"M0 0h24v24H0V0z\" fill=\"none\"/>\n",
              "    <path d=\"M18.56 5.44l.94 2.06.94-2.06 2.06-.94-2.06-.94-.94-2.06-.94 2.06-2.06.94zm-11 1L8.5 8.5l.94-2.06 2.06-.94-2.06-.94L8.5 2.5l-.94 2.06-2.06.94zm10 10l.94 2.06.94-2.06 2.06-.94-2.06-.94-.94-2.06-.94 2.06-2.06.94z\"/><path d=\"M17.41 7.96l-1.37-1.37c-.4-.4-.92-.59-1.43-.59-.52 0-1.04.2-1.43.59L10.3 9.45l-7.72 7.72c-.78.78-.78 2.05 0 2.83L4 21.41c.39.39.9.59 1.41.59.51 0 1.02-.2 1.41-.59l7.78-7.78 2.81-2.81c.8-.78.8-2.07 0-2.86zM5.41 20L4 18.59l7.72-7.72 1.47 1.35L5.41 20z\"/>\n",
              "  </svg>\n",
              "      </button>\n",
              "      \n",
              "  <style>\n",
              "    .colab-df-container {\n",
              "      display:flex;\n",
              "      flex-wrap:wrap;\n",
              "      gap: 12px;\n",
              "    }\n",
              "\n",
              "    .colab-df-convert {\n",
              "      background-color: #E8F0FE;\n",
              "      border: none;\n",
              "      border-radius: 50%;\n",
              "      cursor: pointer;\n",
              "      display: none;\n",
              "      fill: #1967D2;\n",
              "      height: 32px;\n",
              "      padding: 0 0 0 0;\n",
              "      width: 32px;\n",
              "    }\n",
              "\n",
              "    .colab-df-convert:hover {\n",
              "      background-color: #E2EBFA;\n",
              "      box-shadow: 0px 1px 2px rgba(60, 64, 67, 0.3), 0px 1px 3px 1px rgba(60, 64, 67, 0.15);\n",
              "      fill: #174EA6;\n",
              "    }\n",
              "\n",
              "    [theme=dark] .colab-df-convert {\n",
              "      background-color: #3B4455;\n",
              "      fill: #D2E3FC;\n",
              "    }\n",
              "\n",
              "    [theme=dark] .colab-df-convert:hover {\n",
              "      background-color: #434B5C;\n",
              "      box-shadow: 0px 1px 3px 1px rgba(0, 0, 0, 0.15);\n",
              "      filter: drop-shadow(0px 1px 2px rgba(0, 0, 0, 0.3));\n",
              "      fill: #FFFFFF;\n",
              "    }\n",
              "  </style>\n",
              "\n",
              "      <script>\n",
              "        const buttonEl =\n",
              "          document.querySelector('#df-aa3eff3d-b360-4546-aa1a-e038c71f9504 button.colab-df-convert');\n",
              "        buttonEl.style.display =\n",
              "          google.colab.kernel.accessAllowed ? 'block' : 'none';\n",
              "\n",
              "        async function convertToInteractive(key) {\n",
              "          const element = document.querySelector('#df-aa3eff3d-b360-4546-aa1a-e038c71f9504');\n",
              "          const dataTable =\n",
              "            await google.colab.kernel.invokeFunction('convertToInteractive',\n",
              "                                                     [key], {});\n",
              "          if (!dataTable) return;\n",
              "\n",
              "          const docLinkHtml = 'Like what you see? Visit the ' +\n",
              "            '<a target=\"_blank\" href=https://colab.research.google.com/notebooks/data_table.ipynb>data table notebook</a>'\n",
              "            + ' to learn more about interactive tables.';\n",
              "          element.innerHTML = '';\n",
              "          dataTable['output_type'] = 'display_data';\n",
              "          await google.colab.output.renderOutput(dataTable, element);\n",
              "          const docLink = document.createElement('div');\n",
              "          docLink.innerHTML = docLinkHtml;\n",
              "          element.appendChild(docLink);\n",
              "        }\n",
              "      </script>\n",
              "    </div>\n",
              "  </div>\n",
              "  "
            ],
            "text/plain": [
              "     countrycode country       year\n",
              "2300         CHN   China 2006-01-01\n",
              "2301         CHN   China 2007-01-01\n",
              "2302         CHN   China 2008-01-01"
            ]
          },
          "metadata": {},
          "execution_count": 30
        }
      ],
      "execution_count": 30
    },
    {
      "cell_type": "markdown",
      "source": [
        "### Selección de filas y columnas de un DataFrame utilizando ```loc```\n",
        "Cuando queremos seleccionar filas y columnas de acuerdo a una mezcla del nombre de los índices y nombres de las columnas (etiquetas), utilizamos el atributo: ```loc[]```"
      ],
      "metadata": {
        "application/vnd.databricks.v1+cell": {
          "title": "",
          "showTitle": false,
          "inputWidgets": {},
          "nuid": "2e1a1802-0d00-42b0-928b-16656a5beaa1"
        },
        "id": "L5kn4jVoMNIQ"
      }
    },
    {
      "cell_type": "code",
      "source": [
        "df_seleccion = df.loc[:, ['countrycode', 'year', 'pop', 'rgdpo']]\n",
        "df_seleccion.head()"
      ],
      "metadata": {
        "application/vnd.databricks.v1+cell": {
          "title": "",
          "showTitle": false,
          "inputWidgets": {},
          "nuid": "00a144fc-a88c-48e0-9a3b-7735b7f39d02"
        },
        "colab": {
          "base_uri": "https://localhost:8080/",
          "height": 206
        },
        "id": "iA4fHqwLMNIQ",
        "outputId": "ef55e20e-17bf-42fc-ae3f-50b573d24278"
      },
      "outputs": [
        {
          "output_type": "execute_result",
          "data": {
            "text/html": [
              "\n",
              "  <div id=\"df-8dd85848-0c0c-422e-acc4-51c349be0115\">\n",
              "    <div class=\"colab-df-container\">\n",
              "      <div>\n",
              "<style scoped>\n",
              "    .dataframe tbody tr th:only-of-type {\n",
              "        vertical-align: middle;\n",
              "    }\n",
              "\n",
              "    .dataframe tbody tr th {\n",
              "        vertical-align: top;\n",
              "    }\n",
              "\n",
              "    .dataframe thead th {\n",
              "        text-align: right;\n",
              "    }\n",
              "</style>\n",
              "<table border=\"1\" class=\"dataframe\">\n",
              "  <thead>\n",
              "    <tr style=\"text-align: right;\">\n",
              "      <th></th>\n",
              "      <th>countrycode</th>\n",
              "      <th>year</th>\n",
              "      <th>pop</th>\n",
              "      <th>rgdpo</th>\n",
              "    </tr>\n",
              "  </thead>\n",
              "  <tbody>\n",
              "    <tr>\n",
              "      <th>0</th>\n",
              "      <td>ABW</td>\n",
              "      <td>1950-01-01</td>\n",
              "      <td>0</td>\n",
              "      <td>NaN</td>\n",
              "    </tr>\n",
              "    <tr>\n",
              "      <th>1</th>\n",
              "      <td>ABW</td>\n",
              "      <td>1951-01-01</td>\n",
              "      <td>0</td>\n",
              "      <td>NaN</td>\n",
              "    </tr>\n",
              "    <tr>\n",
              "      <th>2</th>\n",
              "      <td>ABW</td>\n",
              "      <td>1952-01-01</td>\n",
              "      <td>0</td>\n",
              "      <td>NaN</td>\n",
              "    </tr>\n",
              "    <tr>\n",
              "      <th>3</th>\n",
              "      <td>ABW</td>\n",
              "      <td>1953-01-01</td>\n",
              "      <td>0</td>\n",
              "      <td>NaN</td>\n",
              "    </tr>\n",
              "    <tr>\n",
              "      <th>4</th>\n",
              "      <td>ABW</td>\n",
              "      <td>1954-01-01</td>\n",
              "      <td>0</td>\n",
              "      <td>NaN</td>\n",
              "    </tr>\n",
              "  </tbody>\n",
              "</table>\n",
              "</div>\n",
              "      <button class=\"colab-df-convert\" onclick=\"convertToInteractive('df-8dd85848-0c0c-422e-acc4-51c349be0115')\"\n",
              "              title=\"Convert this dataframe to an interactive table.\"\n",
              "              style=\"display:none;\">\n",
              "        \n",
              "  <svg xmlns=\"http://www.w3.org/2000/svg\" height=\"24px\"viewBox=\"0 0 24 24\"\n",
              "       width=\"24px\">\n",
              "    <path d=\"M0 0h24v24H0V0z\" fill=\"none\"/>\n",
              "    <path d=\"M18.56 5.44l.94 2.06.94-2.06 2.06-.94-2.06-.94-.94-2.06-.94 2.06-2.06.94zm-11 1L8.5 8.5l.94-2.06 2.06-.94-2.06-.94L8.5 2.5l-.94 2.06-2.06.94zm10 10l.94 2.06.94-2.06 2.06-.94-2.06-.94-.94-2.06-.94 2.06-2.06.94z\"/><path d=\"M17.41 7.96l-1.37-1.37c-.4-.4-.92-.59-1.43-.59-.52 0-1.04.2-1.43.59L10.3 9.45l-7.72 7.72c-.78.78-.78 2.05 0 2.83L4 21.41c.39.39.9.59 1.41.59.51 0 1.02-.2 1.41-.59l7.78-7.78 2.81-2.81c.8-.78.8-2.07 0-2.86zM5.41 20L4 18.59l7.72-7.72 1.47 1.35L5.41 20z\"/>\n",
              "  </svg>\n",
              "      </button>\n",
              "      \n",
              "  <style>\n",
              "    .colab-df-container {\n",
              "      display:flex;\n",
              "      flex-wrap:wrap;\n",
              "      gap: 12px;\n",
              "    }\n",
              "\n",
              "    .colab-df-convert {\n",
              "      background-color: #E8F0FE;\n",
              "      border: none;\n",
              "      border-radius: 50%;\n",
              "      cursor: pointer;\n",
              "      display: none;\n",
              "      fill: #1967D2;\n",
              "      height: 32px;\n",
              "      padding: 0 0 0 0;\n",
              "      width: 32px;\n",
              "    }\n",
              "\n",
              "    .colab-df-convert:hover {\n",
              "      background-color: #E2EBFA;\n",
              "      box-shadow: 0px 1px 2px rgba(60, 64, 67, 0.3), 0px 1px 3px 1px rgba(60, 64, 67, 0.15);\n",
              "      fill: #174EA6;\n",
              "    }\n",
              "\n",
              "    [theme=dark] .colab-df-convert {\n",
              "      background-color: #3B4455;\n",
              "      fill: #D2E3FC;\n",
              "    }\n",
              "\n",
              "    [theme=dark] .colab-df-convert:hover {\n",
              "      background-color: #434B5C;\n",
              "      box-shadow: 0px 1px 3px 1px rgba(0, 0, 0, 0.15);\n",
              "      filter: drop-shadow(0px 1px 2px rgba(0, 0, 0, 0.3));\n",
              "      fill: #FFFFFF;\n",
              "    }\n",
              "  </style>\n",
              "\n",
              "      <script>\n",
              "        const buttonEl =\n",
              "          document.querySelector('#df-8dd85848-0c0c-422e-acc4-51c349be0115 button.colab-df-convert');\n",
              "        buttonEl.style.display =\n",
              "          google.colab.kernel.accessAllowed ? 'block' : 'none';\n",
              "\n",
              "        async function convertToInteractive(key) {\n",
              "          const element = document.querySelector('#df-8dd85848-0c0c-422e-acc4-51c349be0115');\n",
              "          const dataTable =\n",
              "            await google.colab.kernel.invokeFunction('convertToInteractive',\n",
              "                                                     [key], {});\n",
              "          if (!dataTable) return;\n",
              "\n",
              "          const docLinkHtml = 'Like what you see? Visit the ' +\n",
              "            '<a target=\"_blank\" href=https://colab.research.google.com/notebooks/data_table.ipynb>data table notebook</a>'\n",
              "            + ' to learn more about interactive tables.';\n",
              "          element.innerHTML = '';\n",
              "          dataTable['output_type'] = 'display_data';\n",
              "          await google.colab.output.renderOutput(dataTable, element);\n",
              "          const docLink = document.createElement('div');\n",
              "          docLink.innerHTML = docLinkHtml;\n",
              "          element.appendChild(docLink);\n",
              "        }\n",
              "      </script>\n",
              "    </div>\n",
              "  </div>\n",
              "  "
            ],
            "text/plain": [
              "  countrycode       year  pop  rgdpo\n",
              "0         ABW 1950-01-01    0    NaN\n",
              "1         ABW 1951-01-01    0    NaN\n",
              "2         ABW 1952-01-01    0    NaN\n",
              "3         ABW 1953-01-01    0    NaN\n",
              "4         ABW 1954-01-01    0    NaN"
            ]
          },
          "metadata": {},
          "execution_count": 31
        }
      ],
      "execution_count": 31
    },
    {
      "cell_type": "markdown",
      "source": [
        "### Renombrar columnas en un DataFrame"
      ],
      "metadata": {
        "application/vnd.databricks.v1+cell": {
          "title": "",
          "showTitle": false,
          "inputWidgets": {},
          "nuid": "2ba69420-8145-4961-80f8-b9cfed05c5e7"
        },
        "id": "dVwvqOH2MNIQ"
      }
    },
    {
      "cell_type": "code",
      "source": [
        "df_seleccion.rename(columns = {'countrycode': 'codigo_pais', 'pop': 'pob_millones', 'rgdpo': 'pib_real_millones'}, inplace = True)\n",
        "df_seleccion.tail()"
      ],
      "metadata": {
        "application/vnd.databricks.v1+cell": {
          "title": "",
          "showTitle": false,
          "inputWidgets": {},
          "nuid": "90aa4043-8228-4e45-acca-85b65599befd"
        },
        "colab": {
          "base_uri": "https://localhost:8080/",
          "height": 206
        },
        "id": "STyykSrFMNIQ",
        "outputId": "e9705511-2be5-42a8-beca-773daa4e79fc"
      },
      "outputs": [
        {
          "output_type": "execute_result",
          "data": {
            "text/html": [
              "\n",
              "  <div id=\"df-6c11919b-1788-4a29-a93c-55c5abe0ce48\">\n",
              "    <div class=\"colab-df-container\">\n",
              "      <div>\n",
              "<style scoped>\n",
              "    .dataframe tbody tr th:only-of-type {\n",
              "        vertical-align: middle;\n",
              "    }\n",
              "\n",
              "    .dataframe tbody tr th {\n",
              "        vertical-align: top;\n",
              "    }\n",
              "\n",
              "    .dataframe thead th {\n",
              "        text-align: right;\n",
              "    }\n",
              "</style>\n",
              "<table border=\"1\" class=\"dataframe\">\n",
              "  <thead>\n",
              "    <tr style=\"text-align: right;\">\n",
              "      <th></th>\n",
              "      <th>codigo_pais</th>\n",
              "      <th>year</th>\n",
              "      <th>pob_millones</th>\n",
              "      <th>pib_real_millones</th>\n",
              "    </tr>\n",
              "  </thead>\n",
              "  <tbody>\n",
              "    <tr>\n",
              "      <th>12371</th>\n",
              "      <td>ZWE</td>\n",
              "      <td>2013-01-01</td>\n",
              "      <td>15</td>\n",
              "      <td>28329.81055</td>\n",
              "    </tr>\n",
              "    <tr>\n",
              "      <th>12372</th>\n",
              "      <td>ZWE</td>\n",
              "      <td>2014-01-01</td>\n",
              "      <td>15</td>\n",
              "      <td>29355.75977</td>\n",
              "    </tr>\n",
              "    <tr>\n",
              "      <th>12373</th>\n",
              "      <td>ZWE</td>\n",
              "      <td>2015-01-01</td>\n",
              "      <td>15</td>\n",
              "      <td>29150.75000</td>\n",
              "    </tr>\n",
              "    <tr>\n",
              "      <th>12374</th>\n",
              "      <td>ZWE</td>\n",
              "      <td>2016-01-01</td>\n",
              "      <td>16</td>\n",
              "      <td>29420.44922</td>\n",
              "    </tr>\n",
              "    <tr>\n",
              "      <th>12375</th>\n",
              "      <td>ZWE</td>\n",
              "      <td>2017-01-01</td>\n",
              "      <td>16</td>\n",
              "      <td>30940.81641</td>\n",
              "    </tr>\n",
              "  </tbody>\n",
              "</table>\n",
              "</div>\n",
              "      <button class=\"colab-df-convert\" onclick=\"convertToInteractive('df-6c11919b-1788-4a29-a93c-55c5abe0ce48')\"\n",
              "              title=\"Convert this dataframe to an interactive table.\"\n",
              "              style=\"display:none;\">\n",
              "        \n",
              "  <svg xmlns=\"http://www.w3.org/2000/svg\" height=\"24px\"viewBox=\"0 0 24 24\"\n",
              "       width=\"24px\">\n",
              "    <path d=\"M0 0h24v24H0V0z\" fill=\"none\"/>\n",
              "    <path d=\"M18.56 5.44l.94 2.06.94-2.06 2.06-.94-2.06-.94-.94-2.06-.94 2.06-2.06.94zm-11 1L8.5 8.5l.94-2.06 2.06-.94-2.06-.94L8.5 2.5l-.94 2.06-2.06.94zm10 10l.94 2.06.94-2.06 2.06-.94-2.06-.94-.94-2.06-.94 2.06-2.06.94z\"/><path d=\"M17.41 7.96l-1.37-1.37c-.4-.4-.92-.59-1.43-.59-.52 0-1.04.2-1.43.59L10.3 9.45l-7.72 7.72c-.78.78-.78 2.05 0 2.83L4 21.41c.39.39.9.59 1.41.59.51 0 1.02-.2 1.41-.59l7.78-7.78 2.81-2.81c.8-.78.8-2.07 0-2.86zM5.41 20L4 18.59l7.72-7.72 1.47 1.35L5.41 20z\"/>\n",
              "  </svg>\n",
              "      </button>\n",
              "      \n",
              "  <style>\n",
              "    .colab-df-container {\n",
              "      display:flex;\n",
              "      flex-wrap:wrap;\n",
              "      gap: 12px;\n",
              "    }\n",
              "\n",
              "    .colab-df-convert {\n",
              "      background-color: #E8F0FE;\n",
              "      border: none;\n",
              "      border-radius: 50%;\n",
              "      cursor: pointer;\n",
              "      display: none;\n",
              "      fill: #1967D2;\n",
              "      height: 32px;\n",
              "      padding: 0 0 0 0;\n",
              "      width: 32px;\n",
              "    }\n",
              "\n",
              "    .colab-df-convert:hover {\n",
              "      background-color: #E2EBFA;\n",
              "      box-shadow: 0px 1px 2px rgba(60, 64, 67, 0.3), 0px 1px 3px 1px rgba(60, 64, 67, 0.15);\n",
              "      fill: #174EA6;\n",
              "    }\n",
              "\n",
              "    [theme=dark] .colab-df-convert {\n",
              "      background-color: #3B4455;\n",
              "      fill: #D2E3FC;\n",
              "    }\n",
              "\n",
              "    [theme=dark] .colab-df-convert:hover {\n",
              "      background-color: #434B5C;\n",
              "      box-shadow: 0px 1px 3px 1px rgba(0, 0, 0, 0.15);\n",
              "      filter: drop-shadow(0px 1px 2px rgba(0, 0, 0, 0.3));\n",
              "      fill: #FFFFFF;\n",
              "    }\n",
              "  </style>\n",
              "\n",
              "      <script>\n",
              "        const buttonEl =\n",
              "          document.querySelector('#df-6c11919b-1788-4a29-a93c-55c5abe0ce48 button.colab-df-convert');\n",
              "        buttonEl.style.display =\n",
              "          google.colab.kernel.accessAllowed ? 'block' : 'none';\n",
              "\n",
              "        async function convertToInteractive(key) {\n",
              "          const element = document.querySelector('#df-6c11919b-1788-4a29-a93c-55c5abe0ce48');\n",
              "          const dataTable =\n",
              "            await google.colab.kernel.invokeFunction('convertToInteractive',\n",
              "                                                     [key], {});\n",
              "          if (!dataTable) return;\n",
              "\n",
              "          const docLinkHtml = 'Like what you see? Visit the ' +\n",
              "            '<a target=\"_blank\" href=https://colab.research.google.com/notebooks/data_table.ipynb>data table notebook</a>'\n",
              "            + ' to learn more about interactive tables.';\n",
              "          element.innerHTML = '';\n",
              "          dataTable['output_type'] = 'display_data';\n",
              "          await google.colab.output.renderOutput(dataTable, element);\n",
              "          const docLink = document.createElement('div');\n",
              "          docLink.innerHTML = docLinkHtml;\n",
              "          element.appendChild(docLink);\n",
              "        }\n",
              "      </script>\n",
              "    </div>\n",
              "  </div>\n",
              "  "
            ],
            "text/plain": [
              "      codigo_pais       year  pob_millones  pib_real_millones\n",
              "12371         ZWE 2013-01-01            15        28329.81055\n",
              "12372         ZWE 2014-01-01            15        29355.75977\n",
              "12373         ZWE 2015-01-01            15        29150.75000\n",
              "12374         ZWE 2016-01-01            16        29420.44922\n",
              "12375         ZWE 2017-01-01            16        30940.81641"
            ]
          },
          "metadata": {},
          "execution_count": 32
        }
      ],
      "execution_count": 32
    },
    {
      "cell_type": "markdown",
      "source": [
        ">**Ejercicio 1:** Utilizando el método `rename` y la opción `inplace=False`, cambie el nombre de la columna `codigo_pais` por `codigo_iso` en el dataframe `df_seleccion`. Utilizando el método `columns` verifique si el cambio de nombre se grabó de forma permanente en `df_seleccion`."
      ],
      "metadata": {
        "application/vnd.databricks.v1+cell": {
          "title": "",
          "showTitle": false,
          "inputWidgets": {},
          "nuid": "1e14b6af-0193-42ce-9ace-5cb226fdc198"
        },
        "id": "n0AGnnqUMNIQ"
      }
    },
    {
      "cell_type": "code",
      "source": [
        "#Su código aquí"
      ],
      "metadata": {
        "application/vnd.databricks.v1+cell": {
          "title": "",
          "showTitle": false,
          "inputWidgets": {},
          "nuid": "82626a0d-500b-423c-ae51-c194272adfcf"
        },
        "id": "7AoWaj-JMNIQ"
      },
      "outputs": [],
      "execution_count": 33
    },
    {
      "cell_type": "markdown",
      "source": [
        "### Solución"
      ],
      "metadata": {
        "id": "jn-sTKRpMxdc"
      }
    },
    {
      "cell_type": "code",
      "source": [
        "print('Resolución;')\n",
        "df_seleccion.rename(columns = {'codigo_pais': 'codigo_iso'}, inplace = False)\n",
        "df_seleccion.columns"
      ],
      "metadata": {
        "application/vnd.databricks.v1+cell": {
          "title": "",
          "showTitle": false,
          "inputWidgets": {},
          "nuid": "5d8e8823-53bd-4474-b582-a81aa8ba8f45"
        },
        "colab": {
          "base_uri": "https://localhost:8080/"
        },
        "id": "MJiJhoDhMNIQ",
        "outputId": "d22afe36-7ba6-4265-a8db-1599eee48589"
      },
      "outputs": [
        {
          "output_type": "stream",
          "name": "stdout",
          "text": [
            "Resolución;\n"
          ]
        },
        {
          "output_type": "execute_result",
          "data": {
            "text/plain": [
              "Index(['codigo_pais', 'year', 'pob_millones', 'pib_real_millones'], dtype='object')"
            ]
          },
          "metadata": {},
          "execution_count": 34
        }
      ],
      "execution_count": 34
    },
    {
      "cell_type": "markdown",
      "source": [
        "### Filtrado del DataFrame"
      ],
      "metadata": {
        "application/vnd.databricks.v1+cell": {
          "title": "",
          "showTitle": false,
          "inputWidgets": {},
          "nuid": "cf733b11-c8cc-4cf2-b946-73c062bcd9e9"
        },
        "id": "QUYg8uXOMNIR"
      }
    },
    {
      "cell_type": "code",
      "source": [
        "df_seleccion['year']"
      ],
      "metadata": {
        "application/vnd.databricks.v1+cell": {
          "title": "",
          "showTitle": false,
          "inputWidgets": {},
          "nuid": "b8d5b76a-9eb1-4dab-87a0-64b94f6510b0"
        },
        "colab": {
          "base_uri": "https://localhost:8080/"
        },
        "id": "qDiplCjeMNIR",
        "outputId": "e8fa8fe0-2002-4a03-86d8-0858ef60716c"
      },
      "outputs": [
        {
          "output_type": "execute_result",
          "data": {
            "text/plain": [
              "0       1950-01-01\n",
              "1       1951-01-01\n",
              "2       1952-01-01\n",
              "3       1953-01-01\n",
              "4       1954-01-01\n",
              "           ...    \n",
              "12371   2013-01-01\n",
              "12372   2014-01-01\n",
              "12373   2015-01-01\n",
              "12374   2016-01-01\n",
              "12375   2017-01-01\n",
              "Name: year, Length: 12376, dtype: datetime64[ns]"
            ]
          },
          "metadata": {},
          "execution_count": 35
        }
      ],
      "execution_count": 35
    },
    {
      "cell_type": "code",
      "source": [
        "# Condición booleana de una Serie de Pandas (indexado condicional)\n",
        "df_seleccion['year'] > np.array('2015-01-01', dtype=np.datetime64)"
      ],
      "metadata": {
        "application/vnd.databricks.v1+cell": {
          "title": "",
          "showTitle": false,
          "inputWidgets": {},
          "nuid": "cb087db0-aa88-403c-9b0b-94ce9fcdfc82"
        },
        "colab": {
          "base_uri": "https://localhost:8080/"
        },
        "id": "idn6vmhSMNIR",
        "outputId": "2d7f848d-c855-4f7d-e542-0031c0b2d912"
      },
      "outputs": [
        {
          "output_type": "execute_result",
          "data": {
            "text/plain": [
              "0        False\n",
              "1        False\n",
              "2        False\n",
              "3        False\n",
              "4        False\n",
              "         ...  \n",
              "12371    False\n",
              "12372    False\n",
              "12373    False\n",
              "12374     True\n",
              "12375     True\n",
              "Name: year, Length: 12376, dtype: bool"
            ]
          },
          "metadata": {},
          "execution_count": 36
        }
      ],
      "execution_count": 36
    },
    {
      "cell_type": "code",
      "source": [
        "# Filtramos por filas a partir de una condición en la columna year (fechas mayores a 2015)\n",
        "df_filtrado = df_seleccion.loc[df_seleccion['year'] > np.array('2015-01-01', dtype=np.datetime64)]\n",
        "df_filtrado"
      ],
      "metadata": {
        "application/vnd.databricks.v1+cell": {
          "title": "",
          "showTitle": false,
          "inputWidgets": {},
          "nuid": "a08db69a-8887-4d96-b35a-ead129a1bd66"
        },
        "colab": {
          "base_uri": "https://localhost:8080/",
          "height": 424
        },
        "id": "6yTG2LmcMNIR",
        "outputId": "2c94abeb-09c1-494e-987e-8df847540bc4"
      },
      "outputs": [
        {
          "output_type": "execute_result",
          "data": {
            "text/html": [
              "\n",
              "  <div id=\"df-4e7a3762-06db-4ba2-95a9-485e12955303\">\n",
              "    <div class=\"colab-df-container\">\n",
              "      <div>\n",
              "<style scoped>\n",
              "    .dataframe tbody tr th:only-of-type {\n",
              "        vertical-align: middle;\n",
              "    }\n",
              "\n",
              "    .dataframe tbody tr th {\n",
              "        vertical-align: top;\n",
              "    }\n",
              "\n",
              "    .dataframe thead th {\n",
              "        text-align: right;\n",
              "    }\n",
              "</style>\n",
              "<table border=\"1\" class=\"dataframe\">\n",
              "  <thead>\n",
              "    <tr style=\"text-align: right;\">\n",
              "      <th></th>\n",
              "      <th>codigo_pais</th>\n",
              "      <th>year</th>\n",
              "      <th>pob_millones</th>\n",
              "      <th>pib_real_millones</th>\n",
              "    </tr>\n",
              "  </thead>\n",
              "  <tbody>\n",
              "    <tr>\n",
              "      <th>66</th>\n",
              "      <td>ABW</td>\n",
              "      <td>2016-01-01</td>\n",
              "      <td>0</td>\n",
              "      <td>3101.279785</td>\n",
              "    </tr>\n",
              "    <tr>\n",
              "      <th>67</th>\n",
              "      <td>ABW</td>\n",
              "      <td>2017-01-01</td>\n",
              "      <td>0</td>\n",
              "      <td>3144.354980</td>\n",
              "    </tr>\n",
              "    <tr>\n",
              "      <th>134</th>\n",
              "      <td>AGO</td>\n",
              "      <td>2016-01-01</td>\n",
              "      <td>28</td>\n",
              "      <td>151165.046900</td>\n",
              "    </tr>\n",
              "    <tr>\n",
              "      <th>135</th>\n",
              "      <td>AGO</td>\n",
              "      <td>2017-01-01</td>\n",
              "      <td>29</td>\n",
              "      <td>148737.671900</td>\n",
              "    </tr>\n",
              "    <tr>\n",
              "      <th>202</th>\n",
              "      <td>AIA</td>\n",
              "      <td>2016-01-01</td>\n",
              "      <td>0</td>\n",
              "      <td>227.307556</td>\n",
              "    </tr>\n",
              "    <tr>\n",
              "      <th>...</th>\n",
              "      <td>...</td>\n",
              "      <td>...</td>\n",
              "      <td>...</td>\n",
              "      <td>...</td>\n",
              "    </tr>\n",
              "    <tr>\n",
              "      <th>12239</th>\n",
              "      <td>ZAF</td>\n",
              "      <td>2017-01-01</td>\n",
              "      <td>56</td>\n",
              "      <td>665931.562500</td>\n",
              "    </tr>\n",
              "    <tr>\n",
              "      <th>12306</th>\n",
              "      <td>ZMB</td>\n",
              "      <td>2016-01-01</td>\n",
              "      <td>16</td>\n",
              "      <td>58932.542970</td>\n",
              "    </tr>\n",
              "    <tr>\n",
              "      <th>12307</th>\n",
              "      <td>ZMB</td>\n",
              "      <td>2017-01-01</td>\n",
              "      <td>17</td>\n",
              "      <td>63231.378910</td>\n",
              "    </tr>\n",
              "    <tr>\n",
              "      <th>12374</th>\n",
              "      <td>ZWE</td>\n",
              "      <td>2016-01-01</td>\n",
              "      <td>16</td>\n",
              "      <td>29420.449220</td>\n",
              "    </tr>\n",
              "    <tr>\n",
              "      <th>12375</th>\n",
              "      <td>ZWE</td>\n",
              "      <td>2017-01-01</td>\n",
              "      <td>16</td>\n",
              "      <td>30940.816410</td>\n",
              "    </tr>\n",
              "  </tbody>\n",
              "</table>\n",
              "<p>364 rows × 4 columns</p>\n",
              "</div>\n",
              "      <button class=\"colab-df-convert\" onclick=\"convertToInteractive('df-4e7a3762-06db-4ba2-95a9-485e12955303')\"\n",
              "              title=\"Convert this dataframe to an interactive table.\"\n",
              "              style=\"display:none;\">\n",
              "        \n",
              "  <svg xmlns=\"http://www.w3.org/2000/svg\" height=\"24px\"viewBox=\"0 0 24 24\"\n",
              "       width=\"24px\">\n",
              "    <path d=\"M0 0h24v24H0V0z\" fill=\"none\"/>\n",
              "    <path d=\"M18.56 5.44l.94 2.06.94-2.06 2.06-.94-2.06-.94-.94-2.06-.94 2.06-2.06.94zm-11 1L8.5 8.5l.94-2.06 2.06-.94-2.06-.94L8.5 2.5l-.94 2.06-2.06.94zm10 10l.94 2.06.94-2.06 2.06-.94-2.06-.94-.94-2.06-.94 2.06-2.06.94z\"/><path d=\"M17.41 7.96l-1.37-1.37c-.4-.4-.92-.59-1.43-.59-.52 0-1.04.2-1.43.59L10.3 9.45l-7.72 7.72c-.78.78-.78 2.05 0 2.83L4 21.41c.39.39.9.59 1.41.59.51 0 1.02-.2 1.41-.59l7.78-7.78 2.81-2.81c.8-.78.8-2.07 0-2.86zM5.41 20L4 18.59l7.72-7.72 1.47 1.35L5.41 20z\"/>\n",
              "  </svg>\n",
              "      </button>\n",
              "      \n",
              "  <style>\n",
              "    .colab-df-container {\n",
              "      display:flex;\n",
              "      flex-wrap:wrap;\n",
              "      gap: 12px;\n",
              "    }\n",
              "\n",
              "    .colab-df-convert {\n",
              "      background-color: #E8F0FE;\n",
              "      border: none;\n",
              "      border-radius: 50%;\n",
              "      cursor: pointer;\n",
              "      display: none;\n",
              "      fill: #1967D2;\n",
              "      height: 32px;\n",
              "      padding: 0 0 0 0;\n",
              "      width: 32px;\n",
              "    }\n",
              "\n",
              "    .colab-df-convert:hover {\n",
              "      background-color: #E2EBFA;\n",
              "      box-shadow: 0px 1px 2px rgba(60, 64, 67, 0.3), 0px 1px 3px 1px rgba(60, 64, 67, 0.15);\n",
              "      fill: #174EA6;\n",
              "    }\n",
              "\n",
              "    [theme=dark] .colab-df-convert {\n",
              "      background-color: #3B4455;\n",
              "      fill: #D2E3FC;\n",
              "    }\n",
              "\n",
              "    [theme=dark] .colab-df-convert:hover {\n",
              "      background-color: #434B5C;\n",
              "      box-shadow: 0px 1px 3px 1px rgba(0, 0, 0, 0.15);\n",
              "      filter: drop-shadow(0px 1px 2px rgba(0, 0, 0, 0.3));\n",
              "      fill: #FFFFFF;\n",
              "    }\n",
              "  </style>\n",
              "\n",
              "      <script>\n",
              "        const buttonEl =\n",
              "          document.querySelector('#df-4e7a3762-06db-4ba2-95a9-485e12955303 button.colab-df-convert');\n",
              "        buttonEl.style.display =\n",
              "          google.colab.kernel.accessAllowed ? 'block' : 'none';\n",
              "\n",
              "        async function convertToInteractive(key) {\n",
              "          const element = document.querySelector('#df-4e7a3762-06db-4ba2-95a9-485e12955303');\n",
              "          const dataTable =\n",
              "            await google.colab.kernel.invokeFunction('convertToInteractive',\n",
              "                                                     [key], {});\n",
              "          if (!dataTable) return;\n",
              "\n",
              "          const docLinkHtml = 'Like what you see? Visit the ' +\n",
              "            '<a target=\"_blank\" href=https://colab.research.google.com/notebooks/data_table.ipynb>data table notebook</a>'\n",
              "            + ' to learn more about interactive tables.';\n",
              "          element.innerHTML = '';\n",
              "          dataTable['output_type'] = 'display_data';\n",
              "          await google.colab.output.renderOutput(dataTable, element);\n",
              "          const docLink = document.createElement('div');\n",
              "          docLink.innerHTML = docLinkHtml;\n",
              "          element.appendChild(docLink);\n",
              "        }\n",
              "      </script>\n",
              "    </div>\n",
              "  </div>\n",
              "  "
            ],
            "text/plain": [
              "      codigo_pais       year  pob_millones  pib_real_millones\n",
              "66            ABW 2016-01-01             0        3101.279785\n",
              "67            ABW 2017-01-01             0        3144.354980\n",
              "134           AGO 2016-01-01            28      151165.046900\n",
              "135           AGO 2017-01-01            29      148737.671900\n",
              "202           AIA 2016-01-01             0         227.307556\n",
              "...           ...        ...           ...                ...\n",
              "12239         ZAF 2017-01-01            56      665931.562500\n",
              "12306         ZMB 2016-01-01            16       58932.542970\n",
              "12307         ZMB 2017-01-01            17       63231.378910\n",
              "12374         ZWE 2016-01-01            16       29420.449220\n",
              "12375         ZWE 2017-01-01            16       30940.816410\n",
              "\n",
              "[364 rows x 4 columns]"
            ]
          },
          "metadata": {},
          "execution_count": 37
        }
      ],
      "execution_count": 37
    },
    {
      "cell_type": "markdown",
      "source": [
        ">**Ejercicio 2:** Generar un nuevo dataframe llamado `df_mayor_pob` realizando un filtrado de las filas del dataframe `df_filtrado`, si la población es mayor a 200 millones de habitantes."
      ],
      "metadata": {
        "application/vnd.databricks.v1+cell": {
          "title": "",
          "showTitle": false,
          "inputWidgets": {},
          "nuid": "a141139c-84e7-44a8-b53a-40dbc7485ad3"
        },
        "id": "Yxb83PZVMNIR"
      }
    },
    {
      "cell_type": "code",
      "source": [
        "# Su código aquí\n"
      ],
      "metadata": {
        "application/vnd.databricks.v1+cell": {
          "title": "",
          "showTitle": false,
          "inputWidgets": {},
          "nuid": "d05e6949-48cb-44b3-8caf-6604d402e2a1"
        },
        "id": "Z7YfQWHNMNIR"
      },
      "outputs": [],
      "execution_count": 38
    },
    {
      "cell_type": "markdown",
      "source": [
        "### Solución"
      ],
      "metadata": {
        "id": "anQevJDHM2SB"
      }
    },
    {
      "cell_type": "code",
      "source": [
        "df_mayor_pob = df_filtrado.loc[df_filtrado['pob_millones'] > 200]\n",
        "df_mayor_pob"
      ],
      "metadata": {
        "application/vnd.databricks.v1+cell": {
          "title": "",
          "showTitle": false,
          "inputWidgets": {},
          "nuid": "e0fbb3cf-14ce-46c9-b0c2-f8bd35e28357"
        },
        "colab": {
          "base_uri": "https://localhost:8080/",
          "height": 363
        },
        "id": "o0KQm1LrMNIR",
        "outputId": "0248423b-6b1d-49dd-c635-269a943e9d4d"
      },
      "outputs": [
        {
          "output_type": "execute_result",
          "data": {
            "text/html": [
              "\n",
              "  <div id=\"df-aa4a0f99-7854-4ad4-ad2e-9027f8cd7ff0\">\n",
              "    <div class=\"colab-df-container\">\n",
              "      <div>\n",
              "<style scoped>\n",
              "    .dataframe tbody tr th:only-of-type {\n",
              "        vertical-align: middle;\n",
              "    }\n",
              "\n",
              "    .dataframe tbody tr th {\n",
              "        vertical-align: top;\n",
              "    }\n",
              "\n",
              "    .dataframe thead th {\n",
              "        text-align: right;\n",
              "    }\n",
              "</style>\n",
              "<table border=\"1\" class=\"dataframe\">\n",
              "  <thead>\n",
              "    <tr style=\"text-align: right;\">\n",
              "      <th></th>\n",
              "      <th>codigo_pais</th>\n",
              "      <th>year</th>\n",
              "      <th>pob_millones</th>\n",
              "      <th>pib_real_millones</th>\n",
              "    </tr>\n",
              "  </thead>\n",
              "  <tbody>\n",
              "    <tr>\n",
              "      <th>1698</th>\n",
              "      <td>BRA</td>\n",
              "      <td>2016-01-01</td>\n",
              "      <td>207</td>\n",
              "      <td>2863052.75</td>\n",
              "    </tr>\n",
              "    <tr>\n",
              "      <th>1699</th>\n",
              "      <td>BRA</td>\n",
              "      <td>2017-01-01</td>\n",
              "      <td>209</td>\n",
              "      <td>2890897.50</td>\n",
              "    </tr>\n",
              "    <tr>\n",
              "      <th>2310</th>\n",
              "      <td>CHN</td>\n",
              "      <td>2016-01-01</td>\n",
              "      <td>1403</td>\n",
              "      <td>17360582.00</td>\n",
              "    </tr>\n",
              "    <tr>\n",
              "      <th>2311</th>\n",
              "      <td>CHN</td>\n",
              "      <td>2017-01-01</td>\n",
              "      <td>1409</td>\n",
              "      <td>18383838.00</td>\n",
              "    </tr>\n",
              "    <tr>\n",
              "      <th>5234</th>\n",
              "      <td>IDN</td>\n",
              "      <td>2016-01-01</td>\n",
              "      <td>261</td>\n",
              "      <td>2643358.50</td>\n",
              "    </tr>\n",
              "    <tr>\n",
              "      <th>5235</th>\n",
              "      <td>IDN</td>\n",
              "      <td>2017-01-01</td>\n",
              "      <td>263</td>\n",
              "      <td>2796742.50</td>\n",
              "    </tr>\n",
              "    <tr>\n",
              "      <th>5302</th>\n",
              "      <td>IND</td>\n",
              "      <td>2016-01-01</td>\n",
              "      <td>1324</td>\n",
              "      <td>7995329.50</td>\n",
              "    </tr>\n",
              "    <tr>\n",
              "      <th>5303</th>\n",
              "      <td>IND</td>\n",
              "      <td>2017-01-01</td>\n",
              "      <td>1339</td>\n",
              "      <td>8599774.00</td>\n",
              "    </tr>\n",
              "    <tr>\n",
              "      <th>11762</th>\n",
              "      <td>USA</td>\n",
              "      <td>2016-01-01</td>\n",
              "      <td>322</td>\n",
              "      <td>17392620.00</td>\n",
              "    </tr>\n",
              "    <tr>\n",
              "      <th>11763</th>\n",
              "      <td>USA</td>\n",
              "      <td>2017-01-01</td>\n",
              "      <td>324</td>\n",
              "      <td>17778680.00</td>\n",
              "    </tr>\n",
              "  </tbody>\n",
              "</table>\n",
              "</div>\n",
              "      <button class=\"colab-df-convert\" onclick=\"convertToInteractive('df-aa4a0f99-7854-4ad4-ad2e-9027f8cd7ff0')\"\n",
              "              title=\"Convert this dataframe to an interactive table.\"\n",
              "              style=\"display:none;\">\n",
              "        \n",
              "  <svg xmlns=\"http://www.w3.org/2000/svg\" height=\"24px\"viewBox=\"0 0 24 24\"\n",
              "       width=\"24px\">\n",
              "    <path d=\"M0 0h24v24H0V0z\" fill=\"none\"/>\n",
              "    <path d=\"M18.56 5.44l.94 2.06.94-2.06 2.06-.94-2.06-.94-.94-2.06-.94 2.06-2.06.94zm-11 1L8.5 8.5l.94-2.06 2.06-.94-2.06-.94L8.5 2.5l-.94 2.06-2.06.94zm10 10l.94 2.06.94-2.06 2.06-.94-2.06-.94-.94-2.06-.94 2.06-2.06.94z\"/><path d=\"M17.41 7.96l-1.37-1.37c-.4-.4-.92-.59-1.43-.59-.52 0-1.04.2-1.43.59L10.3 9.45l-7.72 7.72c-.78.78-.78 2.05 0 2.83L4 21.41c.39.39.9.59 1.41.59.51 0 1.02-.2 1.41-.59l7.78-7.78 2.81-2.81c.8-.78.8-2.07 0-2.86zM5.41 20L4 18.59l7.72-7.72 1.47 1.35L5.41 20z\"/>\n",
              "  </svg>\n",
              "      </button>\n",
              "      \n",
              "  <style>\n",
              "    .colab-df-container {\n",
              "      display:flex;\n",
              "      flex-wrap:wrap;\n",
              "      gap: 12px;\n",
              "    }\n",
              "\n",
              "    .colab-df-convert {\n",
              "      background-color: #E8F0FE;\n",
              "      border: none;\n",
              "      border-radius: 50%;\n",
              "      cursor: pointer;\n",
              "      display: none;\n",
              "      fill: #1967D2;\n",
              "      height: 32px;\n",
              "      padding: 0 0 0 0;\n",
              "      width: 32px;\n",
              "    }\n",
              "\n",
              "    .colab-df-convert:hover {\n",
              "      background-color: #E2EBFA;\n",
              "      box-shadow: 0px 1px 2px rgba(60, 64, 67, 0.3), 0px 1px 3px 1px rgba(60, 64, 67, 0.15);\n",
              "      fill: #174EA6;\n",
              "    }\n",
              "\n",
              "    [theme=dark] .colab-df-convert {\n",
              "      background-color: #3B4455;\n",
              "      fill: #D2E3FC;\n",
              "    }\n",
              "\n",
              "    [theme=dark] .colab-df-convert:hover {\n",
              "      background-color: #434B5C;\n",
              "      box-shadow: 0px 1px 3px 1px rgba(0, 0, 0, 0.15);\n",
              "      filter: drop-shadow(0px 1px 2px rgba(0, 0, 0, 0.3));\n",
              "      fill: #FFFFFF;\n",
              "    }\n",
              "  </style>\n",
              "\n",
              "      <script>\n",
              "        const buttonEl =\n",
              "          document.querySelector('#df-aa4a0f99-7854-4ad4-ad2e-9027f8cd7ff0 button.colab-df-convert');\n",
              "        buttonEl.style.display =\n",
              "          google.colab.kernel.accessAllowed ? 'block' : 'none';\n",
              "\n",
              "        async function convertToInteractive(key) {\n",
              "          const element = document.querySelector('#df-aa4a0f99-7854-4ad4-ad2e-9027f8cd7ff0');\n",
              "          const dataTable =\n",
              "            await google.colab.kernel.invokeFunction('convertToInteractive',\n",
              "                                                     [key], {});\n",
              "          if (!dataTable) return;\n",
              "\n",
              "          const docLinkHtml = 'Like what you see? Visit the ' +\n",
              "            '<a target=\"_blank\" href=https://colab.research.google.com/notebooks/data_table.ipynb>data table notebook</a>'\n",
              "            + ' to learn more about interactive tables.';\n",
              "          element.innerHTML = '';\n",
              "          dataTable['output_type'] = 'display_data';\n",
              "          await google.colab.output.renderOutput(dataTable, element);\n",
              "          const docLink = document.createElement('div');\n",
              "          docLink.innerHTML = docLinkHtml;\n",
              "          element.appendChild(docLink);\n",
              "        }\n",
              "      </script>\n",
              "    </div>\n",
              "  </div>\n",
              "  "
            ],
            "text/plain": [
              "      codigo_pais       year  pob_millones  pib_real_millones\n",
              "1698          BRA 2016-01-01           207         2863052.75\n",
              "1699          BRA 2017-01-01           209         2890897.50\n",
              "2310          CHN 2016-01-01          1403        17360582.00\n",
              "2311          CHN 2017-01-01          1409        18383838.00\n",
              "5234          IDN 2016-01-01           261         2643358.50\n",
              "5235          IDN 2017-01-01           263         2796742.50\n",
              "5302          IND 2016-01-01          1324         7995329.50\n",
              "5303          IND 2017-01-01          1339         8599774.00\n",
              "11762         USA 2016-01-01           322        17392620.00\n",
              "11763         USA 2017-01-01           324        17778680.00"
            ]
          },
          "metadata": {},
          "execution_count": 39
        }
      ],
      "execution_count": 39
    },
    {
      "cell_type": "markdown",
      "source": [
        "### Creación de nuevas columnas"
      ],
      "metadata": {
        "application/vnd.databricks.v1+cell": {
          "title": "",
          "showTitle": false,
          "inputWidgets": {},
          "nuid": "49d889fa-d401-48d4-89d4-bc0652bcac8c"
        },
        "id": "5y4Ezm8fMNIR"
      }
    },
    {
      "cell_type": "code",
      "source": [
        "df_percapita = df_mayor_pob.copy()\n",
        "df_percapita.loc[:, 'pib_percapita'] = df_percapita['pib_real_millones'] / df_percapita['pob_millones']\n",
        "df_percapita"
      ],
      "metadata": {
        "application/vnd.databricks.v1+cell": {
          "title": "",
          "showTitle": false,
          "inputWidgets": {},
          "nuid": "eb1aa74e-6179-48e1-a4f8-f2cd96aca1ab"
        },
        "colab": {
          "base_uri": "https://localhost:8080/",
          "height": 363
        },
        "id": "Vu1B9NLjMNIR",
        "outputId": "8595ae97-558c-4fd8-ce66-ab66e811203a"
      },
      "outputs": [
        {
          "output_type": "execute_result",
          "data": {
            "text/html": [
              "\n",
              "  <div id=\"df-3f249a15-bc29-4606-b82c-591a64b04c51\">\n",
              "    <div class=\"colab-df-container\">\n",
              "      <div>\n",
              "<style scoped>\n",
              "    .dataframe tbody tr th:only-of-type {\n",
              "        vertical-align: middle;\n",
              "    }\n",
              "\n",
              "    .dataframe tbody tr th {\n",
              "        vertical-align: top;\n",
              "    }\n",
              "\n",
              "    .dataframe thead th {\n",
              "        text-align: right;\n",
              "    }\n",
              "</style>\n",
              "<table border=\"1\" class=\"dataframe\">\n",
              "  <thead>\n",
              "    <tr style=\"text-align: right;\">\n",
              "      <th></th>\n",
              "      <th>codigo_pais</th>\n",
              "      <th>year</th>\n",
              "      <th>pob_millones</th>\n",
              "      <th>pib_real_millones</th>\n",
              "      <th>pib_percapita</th>\n",
              "    </tr>\n",
              "  </thead>\n",
              "  <tbody>\n",
              "    <tr>\n",
              "      <th>1698</th>\n",
              "      <td>BRA</td>\n",
              "      <td>2016-01-01</td>\n",
              "      <td>207</td>\n",
              "      <td>2863052.75</td>\n",
              "      <td>13831.172705</td>\n",
              "    </tr>\n",
              "    <tr>\n",
              "      <th>1699</th>\n",
              "      <td>BRA</td>\n",
              "      <td>2017-01-01</td>\n",
              "      <td>209</td>\n",
              "      <td>2890897.50</td>\n",
              "      <td>13832.045455</td>\n",
              "    </tr>\n",
              "    <tr>\n",
              "      <th>2310</th>\n",
              "      <td>CHN</td>\n",
              "      <td>2016-01-01</td>\n",
              "      <td>1403</td>\n",
              "      <td>17360582.00</td>\n",
              "      <td>12373.900214</td>\n",
              "    </tr>\n",
              "    <tr>\n",
              "      <th>2311</th>\n",
              "      <td>CHN</td>\n",
              "      <td>2017-01-01</td>\n",
              "      <td>1409</td>\n",
              "      <td>18383838.00</td>\n",
              "      <td>13047.436480</td>\n",
              "    </tr>\n",
              "    <tr>\n",
              "      <th>5234</th>\n",
              "      <td>IDN</td>\n",
              "      <td>2016-01-01</td>\n",
              "      <td>261</td>\n",
              "      <td>2643358.50</td>\n",
              "      <td>10127.810345</td>\n",
              "    </tr>\n",
              "    <tr>\n",
              "      <th>5235</th>\n",
              "      <td>IDN</td>\n",
              "      <td>2017-01-01</td>\n",
              "      <td>263</td>\n",
              "      <td>2796742.50</td>\n",
              "      <td>10634.001901</td>\n",
              "    </tr>\n",
              "    <tr>\n",
              "      <th>5302</th>\n",
              "      <td>IND</td>\n",
              "      <td>2016-01-01</td>\n",
              "      <td>1324</td>\n",
              "      <td>7995329.50</td>\n",
              "      <td>6038.768505</td>\n",
              "    </tr>\n",
              "    <tr>\n",
              "      <th>5303</th>\n",
              "      <td>IND</td>\n",
              "      <td>2017-01-01</td>\n",
              "      <td>1339</td>\n",
              "      <td>8599774.00</td>\n",
              "      <td>6422.534727</td>\n",
              "    </tr>\n",
              "    <tr>\n",
              "      <th>11762</th>\n",
              "      <td>USA</td>\n",
              "      <td>2016-01-01</td>\n",
              "      <td>322</td>\n",
              "      <td>17392620.00</td>\n",
              "      <td>54014.347826</td>\n",
              "    </tr>\n",
              "    <tr>\n",
              "      <th>11763</th>\n",
              "      <td>USA</td>\n",
              "      <td>2017-01-01</td>\n",
              "      <td>324</td>\n",
              "      <td>17778680.00</td>\n",
              "      <td>54872.469136</td>\n",
              "    </tr>\n",
              "  </tbody>\n",
              "</table>\n",
              "</div>\n",
              "      <button class=\"colab-df-convert\" onclick=\"convertToInteractive('df-3f249a15-bc29-4606-b82c-591a64b04c51')\"\n",
              "              title=\"Convert this dataframe to an interactive table.\"\n",
              "              style=\"display:none;\">\n",
              "        \n",
              "  <svg xmlns=\"http://www.w3.org/2000/svg\" height=\"24px\"viewBox=\"0 0 24 24\"\n",
              "       width=\"24px\">\n",
              "    <path d=\"M0 0h24v24H0V0z\" fill=\"none\"/>\n",
              "    <path d=\"M18.56 5.44l.94 2.06.94-2.06 2.06-.94-2.06-.94-.94-2.06-.94 2.06-2.06.94zm-11 1L8.5 8.5l.94-2.06 2.06-.94-2.06-.94L8.5 2.5l-.94 2.06-2.06.94zm10 10l.94 2.06.94-2.06 2.06-.94-2.06-.94-.94-2.06-.94 2.06-2.06.94z\"/><path d=\"M17.41 7.96l-1.37-1.37c-.4-.4-.92-.59-1.43-.59-.52 0-1.04.2-1.43.59L10.3 9.45l-7.72 7.72c-.78.78-.78 2.05 0 2.83L4 21.41c.39.39.9.59 1.41.59.51 0 1.02-.2 1.41-.59l7.78-7.78 2.81-2.81c.8-.78.8-2.07 0-2.86zM5.41 20L4 18.59l7.72-7.72 1.47 1.35L5.41 20z\"/>\n",
              "  </svg>\n",
              "      </button>\n",
              "      \n",
              "  <style>\n",
              "    .colab-df-container {\n",
              "      display:flex;\n",
              "      flex-wrap:wrap;\n",
              "      gap: 12px;\n",
              "    }\n",
              "\n",
              "    .colab-df-convert {\n",
              "      background-color: #E8F0FE;\n",
              "      border: none;\n",
              "      border-radius: 50%;\n",
              "      cursor: pointer;\n",
              "      display: none;\n",
              "      fill: #1967D2;\n",
              "      height: 32px;\n",
              "      padding: 0 0 0 0;\n",
              "      width: 32px;\n",
              "    }\n",
              "\n",
              "    .colab-df-convert:hover {\n",
              "      background-color: #E2EBFA;\n",
              "      box-shadow: 0px 1px 2px rgba(60, 64, 67, 0.3), 0px 1px 3px 1px rgba(60, 64, 67, 0.15);\n",
              "      fill: #174EA6;\n",
              "    }\n",
              "\n",
              "    [theme=dark] .colab-df-convert {\n",
              "      background-color: #3B4455;\n",
              "      fill: #D2E3FC;\n",
              "    }\n",
              "\n",
              "    [theme=dark] .colab-df-convert:hover {\n",
              "      background-color: #434B5C;\n",
              "      box-shadow: 0px 1px 3px 1px rgba(0, 0, 0, 0.15);\n",
              "      filter: drop-shadow(0px 1px 2px rgba(0, 0, 0, 0.3));\n",
              "      fill: #FFFFFF;\n",
              "    }\n",
              "  </style>\n",
              "\n",
              "      <script>\n",
              "        const buttonEl =\n",
              "          document.querySelector('#df-3f249a15-bc29-4606-b82c-591a64b04c51 button.colab-df-convert');\n",
              "        buttonEl.style.display =\n",
              "          google.colab.kernel.accessAllowed ? 'block' : 'none';\n",
              "\n",
              "        async function convertToInteractive(key) {\n",
              "          const element = document.querySelector('#df-3f249a15-bc29-4606-b82c-591a64b04c51');\n",
              "          const dataTable =\n",
              "            await google.colab.kernel.invokeFunction('convertToInteractive',\n",
              "                                                     [key], {});\n",
              "          if (!dataTable) return;\n",
              "\n",
              "          const docLinkHtml = 'Like what you see? Visit the ' +\n",
              "            '<a target=\"_blank\" href=https://colab.research.google.com/notebooks/data_table.ipynb>data table notebook</a>'\n",
              "            + ' to learn more about interactive tables.';\n",
              "          element.innerHTML = '';\n",
              "          dataTable['output_type'] = 'display_data';\n",
              "          await google.colab.output.renderOutput(dataTable, element);\n",
              "          const docLink = document.createElement('div');\n",
              "          docLink.innerHTML = docLinkHtml;\n",
              "          element.appendChild(docLink);\n",
              "        }\n",
              "      </script>\n",
              "    </div>\n",
              "  </div>\n",
              "  "
            ],
            "text/plain": [
              "      codigo_pais       year  pob_millones  pib_real_millones  pib_percapita\n",
              "1698          BRA 2016-01-01           207         2863052.75   13831.172705\n",
              "1699          BRA 2017-01-01           209         2890897.50   13832.045455\n",
              "2310          CHN 2016-01-01          1403        17360582.00   12373.900214\n",
              "2311          CHN 2017-01-01          1409        18383838.00   13047.436480\n",
              "5234          IDN 2016-01-01           261         2643358.50   10127.810345\n",
              "5235          IDN 2017-01-01           263         2796742.50   10634.001901\n",
              "5302          IND 2016-01-01          1324         7995329.50    6038.768505\n",
              "5303          IND 2017-01-01          1339         8599774.00    6422.534727\n",
              "11762         USA 2016-01-01           322        17392620.00   54014.347826\n",
              "11763         USA 2017-01-01           324        17778680.00   54872.469136"
            ]
          },
          "metadata": {},
          "execution_count": 40
        }
      ],
      "execution_count": 40
    },
    {
      "cell_type": "markdown",
      "source": [
        "### Ordenamiento en el DataFrame"
      ],
      "metadata": {
        "application/vnd.databricks.v1+cell": {
          "title": "",
          "showTitle": false,
          "inputWidgets": {},
          "nuid": "f972e0de-e9be-4946-84a1-0e399892376a"
        },
        "id": "Xyv2rG_cMNIS"
      }
    },
    {
      "cell_type": "code",
      "source": [
        "df_percapita.sort_values(by='pib_percapita', ascending = True)"
      ],
      "metadata": {
        "application/vnd.databricks.v1+cell": {
          "title": "",
          "showTitle": false,
          "inputWidgets": {},
          "nuid": "38c37b9d-1327-4a46-8b30-c8ca4c8d8eb5"
        },
        "colab": {
          "base_uri": "https://localhost:8080/",
          "height": 363
        },
        "id": "TDfUMpKSMNIS",
        "outputId": "ff18ec02-b96e-4b90-e947-68b79fe88b06"
      },
      "outputs": [
        {
          "output_type": "execute_result",
          "data": {
            "text/html": [
              "\n",
              "  <div id=\"df-d68e0759-a46f-4c0d-b84e-16ce6b563816\">\n",
              "    <div class=\"colab-df-container\">\n",
              "      <div>\n",
              "<style scoped>\n",
              "    .dataframe tbody tr th:only-of-type {\n",
              "        vertical-align: middle;\n",
              "    }\n",
              "\n",
              "    .dataframe tbody tr th {\n",
              "        vertical-align: top;\n",
              "    }\n",
              "\n",
              "    .dataframe thead th {\n",
              "        text-align: right;\n",
              "    }\n",
              "</style>\n",
              "<table border=\"1\" class=\"dataframe\">\n",
              "  <thead>\n",
              "    <tr style=\"text-align: right;\">\n",
              "      <th></th>\n",
              "      <th>codigo_pais</th>\n",
              "      <th>year</th>\n",
              "      <th>pob_millones</th>\n",
              "      <th>pib_real_millones</th>\n",
              "      <th>pib_percapita</th>\n",
              "    </tr>\n",
              "  </thead>\n",
              "  <tbody>\n",
              "    <tr>\n",
              "      <th>5302</th>\n",
              "      <td>IND</td>\n",
              "      <td>2016-01-01</td>\n",
              "      <td>1324</td>\n",
              "      <td>7995329.50</td>\n",
              "      <td>6038.768505</td>\n",
              "    </tr>\n",
              "    <tr>\n",
              "      <th>5303</th>\n",
              "      <td>IND</td>\n",
              "      <td>2017-01-01</td>\n",
              "      <td>1339</td>\n",
              "      <td>8599774.00</td>\n",
              "      <td>6422.534727</td>\n",
              "    </tr>\n",
              "    <tr>\n",
              "      <th>5234</th>\n",
              "      <td>IDN</td>\n",
              "      <td>2016-01-01</td>\n",
              "      <td>261</td>\n",
              "      <td>2643358.50</td>\n",
              "      <td>10127.810345</td>\n",
              "    </tr>\n",
              "    <tr>\n",
              "      <th>5235</th>\n",
              "      <td>IDN</td>\n",
              "      <td>2017-01-01</td>\n",
              "      <td>263</td>\n",
              "      <td>2796742.50</td>\n",
              "      <td>10634.001901</td>\n",
              "    </tr>\n",
              "    <tr>\n",
              "      <th>2310</th>\n",
              "      <td>CHN</td>\n",
              "      <td>2016-01-01</td>\n",
              "      <td>1403</td>\n",
              "      <td>17360582.00</td>\n",
              "      <td>12373.900214</td>\n",
              "    </tr>\n",
              "    <tr>\n",
              "      <th>2311</th>\n",
              "      <td>CHN</td>\n",
              "      <td>2017-01-01</td>\n",
              "      <td>1409</td>\n",
              "      <td>18383838.00</td>\n",
              "      <td>13047.436480</td>\n",
              "    </tr>\n",
              "    <tr>\n",
              "      <th>1698</th>\n",
              "      <td>BRA</td>\n",
              "      <td>2016-01-01</td>\n",
              "      <td>207</td>\n",
              "      <td>2863052.75</td>\n",
              "      <td>13831.172705</td>\n",
              "    </tr>\n",
              "    <tr>\n",
              "      <th>1699</th>\n",
              "      <td>BRA</td>\n",
              "      <td>2017-01-01</td>\n",
              "      <td>209</td>\n",
              "      <td>2890897.50</td>\n",
              "      <td>13832.045455</td>\n",
              "    </tr>\n",
              "    <tr>\n",
              "      <th>11762</th>\n",
              "      <td>USA</td>\n",
              "      <td>2016-01-01</td>\n",
              "      <td>322</td>\n",
              "      <td>17392620.00</td>\n",
              "      <td>54014.347826</td>\n",
              "    </tr>\n",
              "    <tr>\n",
              "      <th>11763</th>\n",
              "      <td>USA</td>\n",
              "      <td>2017-01-01</td>\n",
              "      <td>324</td>\n",
              "      <td>17778680.00</td>\n",
              "      <td>54872.469136</td>\n",
              "    </tr>\n",
              "  </tbody>\n",
              "</table>\n",
              "</div>\n",
              "      <button class=\"colab-df-convert\" onclick=\"convertToInteractive('df-d68e0759-a46f-4c0d-b84e-16ce6b563816')\"\n",
              "              title=\"Convert this dataframe to an interactive table.\"\n",
              "              style=\"display:none;\">\n",
              "        \n",
              "  <svg xmlns=\"http://www.w3.org/2000/svg\" height=\"24px\"viewBox=\"0 0 24 24\"\n",
              "       width=\"24px\">\n",
              "    <path d=\"M0 0h24v24H0V0z\" fill=\"none\"/>\n",
              "    <path d=\"M18.56 5.44l.94 2.06.94-2.06 2.06-.94-2.06-.94-.94-2.06-.94 2.06-2.06.94zm-11 1L8.5 8.5l.94-2.06 2.06-.94-2.06-.94L8.5 2.5l-.94 2.06-2.06.94zm10 10l.94 2.06.94-2.06 2.06-.94-2.06-.94-.94-2.06-.94 2.06-2.06.94z\"/><path d=\"M17.41 7.96l-1.37-1.37c-.4-.4-.92-.59-1.43-.59-.52 0-1.04.2-1.43.59L10.3 9.45l-7.72 7.72c-.78.78-.78 2.05 0 2.83L4 21.41c.39.39.9.59 1.41.59.51 0 1.02-.2 1.41-.59l7.78-7.78 2.81-2.81c.8-.78.8-2.07 0-2.86zM5.41 20L4 18.59l7.72-7.72 1.47 1.35L5.41 20z\"/>\n",
              "  </svg>\n",
              "      </button>\n",
              "      \n",
              "  <style>\n",
              "    .colab-df-container {\n",
              "      display:flex;\n",
              "      flex-wrap:wrap;\n",
              "      gap: 12px;\n",
              "    }\n",
              "\n",
              "    .colab-df-convert {\n",
              "      background-color: #E8F0FE;\n",
              "      border: none;\n",
              "      border-radius: 50%;\n",
              "      cursor: pointer;\n",
              "      display: none;\n",
              "      fill: #1967D2;\n",
              "      height: 32px;\n",
              "      padding: 0 0 0 0;\n",
              "      width: 32px;\n",
              "    }\n",
              "\n",
              "    .colab-df-convert:hover {\n",
              "      background-color: #E2EBFA;\n",
              "      box-shadow: 0px 1px 2px rgba(60, 64, 67, 0.3), 0px 1px 3px 1px rgba(60, 64, 67, 0.15);\n",
              "      fill: #174EA6;\n",
              "    }\n",
              "\n",
              "    [theme=dark] .colab-df-convert {\n",
              "      background-color: #3B4455;\n",
              "      fill: #D2E3FC;\n",
              "    }\n",
              "\n",
              "    [theme=dark] .colab-df-convert:hover {\n",
              "      background-color: #434B5C;\n",
              "      box-shadow: 0px 1px 3px 1px rgba(0, 0, 0, 0.15);\n",
              "      filter: drop-shadow(0px 1px 2px rgba(0, 0, 0, 0.3));\n",
              "      fill: #FFFFFF;\n",
              "    }\n",
              "  </style>\n",
              "\n",
              "      <script>\n",
              "        const buttonEl =\n",
              "          document.querySelector('#df-d68e0759-a46f-4c0d-b84e-16ce6b563816 button.colab-df-convert');\n",
              "        buttonEl.style.display =\n",
              "          google.colab.kernel.accessAllowed ? 'block' : 'none';\n",
              "\n",
              "        async function convertToInteractive(key) {\n",
              "          const element = document.querySelector('#df-d68e0759-a46f-4c0d-b84e-16ce6b563816');\n",
              "          const dataTable =\n",
              "            await google.colab.kernel.invokeFunction('convertToInteractive',\n",
              "                                                     [key], {});\n",
              "          if (!dataTable) return;\n",
              "\n",
              "          const docLinkHtml = 'Like what you see? Visit the ' +\n",
              "            '<a target=\"_blank\" href=https://colab.research.google.com/notebooks/data_table.ipynb>data table notebook</a>'\n",
              "            + ' to learn more about interactive tables.';\n",
              "          element.innerHTML = '';\n",
              "          dataTable['output_type'] = 'display_data';\n",
              "          await google.colab.output.renderOutput(dataTable, element);\n",
              "          const docLink = document.createElement('div');\n",
              "          docLink.innerHTML = docLinkHtml;\n",
              "          element.appendChild(docLink);\n",
              "        }\n",
              "      </script>\n",
              "    </div>\n",
              "  </div>\n",
              "  "
            ],
            "text/plain": [
              "      codigo_pais       year  pob_millones  pib_real_millones  pib_percapita\n",
              "5302          IND 2016-01-01          1324         7995329.50    6038.768505\n",
              "5303          IND 2017-01-01          1339         8599774.00    6422.534727\n",
              "5234          IDN 2016-01-01           261         2643358.50   10127.810345\n",
              "5235          IDN 2017-01-01           263         2796742.50   10634.001901\n",
              "2310          CHN 2016-01-01          1403        17360582.00   12373.900214\n",
              "2311          CHN 2017-01-01          1409        18383838.00   13047.436480\n",
              "1698          BRA 2016-01-01           207         2863052.75   13831.172705\n",
              "1699          BRA 2017-01-01           209         2890897.50   13832.045455\n",
              "11762         USA 2016-01-01           322        17392620.00   54014.347826\n",
              "11763         USA 2017-01-01           324        17778680.00   54872.469136"
            ]
          },
          "metadata": {},
          "execution_count": 41
        }
      ],
      "execution_count": 41
    },
    {
      "cell_type": "markdown",
      "source": [
        "### Agregación en DataFrames\n",
        "\n",
        "#### Uso la función groupby\n",
        "\n",
        "Busca agrupar grandes cantidades de datos y aplicar operaciones de cálculo en estos grupos"
      ],
      "metadata": {
        "application/vnd.databricks.v1+cell": {
          "title": "",
          "showTitle": false,
          "inputWidgets": {},
          "nuid": "f4f07a01-563f-487f-a874-168fd49eb10b"
        },
        "id": "NMTbmJNrMNIS"
      }
    },
    {
      "cell_type": "code",
      "source": [
        "# Agregamos los datos mediante empleando el promedio\n",
        "df_agrupado = df_percapita.groupby(by = 'codigo_pais')\\\n",
        "                          .agg('mean')\n",
        "df_agrupado"
      ],
      "metadata": {
        "application/vnd.databricks.v1+cell": {
          "title": "",
          "showTitle": false,
          "inputWidgets": {},
          "nuid": "e6d1dd83-364a-4c48-aa0d-ac0a3f6a2f04"
        },
        "colab": {
          "base_uri": "https://localhost:8080/",
          "height": 238
        },
        "id": "iJJF3TVBMNIS",
        "outputId": "3fc3e076-12d1-470c-f396-28cdff369b5b"
      },
      "outputs": [
        {
          "output_type": "execute_result",
          "data": {
            "text/html": [
              "\n",
              "  <div id=\"df-61e6fc3d-5ec4-4d3d-b947-c643c8589da4\">\n",
              "    <div class=\"colab-df-container\">\n",
              "      <div>\n",
              "<style scoped>\n",
              "    .dataframe tbody tr th:only-of-type {\n",
              "        vertical-align: middle;\n",
              "    }\n",
              "\n",
              "    .dataframe tbody tr th {\n",
              "        vertical-align: top;\n",
              "    }\n",
              "\n",
              "    .dataframe thead th {\n",
              "        text-align: right;\n",
              "    }\n",
              "</style>\n",
              "<table border=\"1\" class=\"dataframe\">\n",
              "  <thead>\n",
              "    <tr style=\"text-align: right;\">\n",
              "      <th></th>\n",
              "      <th>pob_millones</th>\n",
              "      <th>pib_real_millones</th>\n",
              "      <th>pib_percapita</th>\n",
              "    </tr>\n",
              "    <tr>\n",
              "      <th>codigo_pais</th>\n",
              "      <th></th>\n",
              "      <th></th>\n",
              "      <th></th>\n",
              "    </tr>\n",
              "  </thead>\n",
              "  <tbody>\n",
              "    <tr>\n",
              "      <th>BRA</th>\n",
              "      <td>208.0</td>\n",
              "      <td>2.876975e+06</td>\n",
              "      <td>13831.609080</td>\n",
              "    </tr>\n",
              "    <tr>\n",
              "      <th>CHN</th>\n",
              "      <td>1406.0</td>\n",
              "      <td>1.787221e+07</td>\n",
              "      <td>12710.668347</td>\n",
              "    </tr>\n",
              "    <tr>\n",
              "      <th>IDN</th>\n",
              "      <td>262.0</td>\n",
              "      <td>2.720050e+06</td>\n",
              "      <td>10380.906123</td>\n",
              "    </tr>\n",
              "    <tr>\n",
              "      <th>IND</th>\n",
              "      <td>1331.5</td>\n",
              "      <td>8.297552e+06</td>\n",
              "      <td>6230.651616</td>\n",
              "    </tr>\n",
              "    <tr>\n",
              "      <th>USA</th>\n",
              "      <td>323.0</td>\n",
              "      <td>1.758565e+07</td>\n",
              "      <td>54443.408481</td>\n",
              "    </tr>\n",
              "  </tbody>\n",
              "</table>\n",
              "</div>\n",
              "      <button class=\"colab-df-convert\" onclick=\"convertToInteractive('df-61e6fc3d-5ec4-4d3d-b947-c643c8589da4')\"\n",
              "              title=\"Convert this dataframe to an interactive table.\"\n",
              "              style=\"display:none;\">\n",
              "        \n",
              "  <svg xmlns=\"http://www.w3.org/2000/svg\" height=\"24px\"viewBox=\"0 0 24 24\"\n",
              "       width=\"24px\">\n",
              "    <path d=\"M0 0h24v24H0V0z\" fill=\"none\"/>\n",
              "    <path d=\"M18.56 5.44l.94 2.06.94-2.06 2.06-.94-2.06-.94-.94-2.06-.94 2.06-2.06.94zm-11 1L8.5 8.5l.94-2.06 2.06-.94-2.06-.94L8.5 2.5l-.94 2.06-2.06.94zm10 10l.94 2.06.94-2.06 2.06-.94-2.06-.94-.94-2.06-.94 2.06-2.06.94z\"/><path d=\"M17.41 7.96l-1.37-1.37c-.4-.4-.92-.59-1.43-.59-.52 0-1.04.2-1.43.59L10.3 9.45l-7.72 7.72c-.78.78-.78 2.05 0 2.83L4 21.41c.39.39.9.59 1.41.59.51 0 1.02-.2 1.41-.59l7.78-7.78 2.81-2.81c.8-.78.8-2.07 0-2.86zM5.41 20L4 18.59l7.72-7.72 1.47 1.35L5.41 20z\"/>\n",
              "  </svg>\n",
              "      </button>\n",
              "      \n",
              "  <style>\n",
              "    .colab-df-container {\n",
              "      display:flex;\n",
              "      flex-wrap:wrap;\n",
              "      gap: 12px;\n",
              "    }\n",
              "\n",
              "    .colab-df-convert {\n",
              "      background-color: #E8F0FE;\n",
              "      border: none;\n",
              "      border-radius: 50%;\n",
              "      cursor: pointer;\n",
              "      display: none;\n",
              "      fill: #1967D2;\n",
              "      height: 32px;\n",
              "      padding: 0 0 0 0;\n",
              "      width: 32px;\n",
              "    }\n",
              "\n",
              "    .colab-df-convert:hover {\n",
              "      background-color: #E2EBFA;\n",
              "      box-shadow: 0px 1px 2px rgba(60, 64, 67, 0.3), 0px 1px 3px 1px rgba(60, 64, 67, 0.15);\n",
              "      fill: #174EA6;\n",
              "    }\n",
              "\n",
              "    [theme=dark] .colab-df-convert {\n",
              "      background-color: #3B4455;\n",
              "      fill: #D2E3FC;\n",
              "    }\n",
              "\n",
              "    [theme=dark] .colab-df-convert:hover {\n",
              "      background-color: #434B5C;\n",
              "      box-shadow: 0px 1px 3px 1px rgba(0, 0, 0, 0.15);\n",
              "      filter: drop-shadow(0px 1px 2px rgba(0, 0, 0, 0.3));\n",
              "      fill: #FFFFFF;\n",
              "    }\n",
              "  </style>\n",
              "\n",
              "      <script>\n",
              "        const buttonEl =\n",
              "          document.querySelector('#df-61e6fc3d-5ec4-4d3d-b947-c643c8589da4 button.colab-df-convert');\n",
              "        buttonEl.style.display =\n",
              "          google.colab.kernel.accessAllowed ? 'block' : 'none';\n",
              "\n",
              "        async function convertToInteractive(key) {\n",
              "          const element = document.querySelector('#df-61e6fc3d-5ec4-4d3d-b947-c643c8589da4');\n",
              "          const dataTable =\n",
              "            await google.colab.kernel.invokeFunction('convertToInteractive',\n",
              "                                                     [key], {});\n",
              "          if (!dataTable) return;\n",
              "\n",
              "          const docLinkHtml = 'Like what you see? Visit the ' +\n",
              "            '<a target=\"_blank\" href=https://colab.research.google.com/notebooks/data_table.ipynb>data table notebook</a>'\n",
              "            + ' to learn more about interactive tables.';\n",
              "          element.innerHTML = '';\n",
              "          dataTable['output_type'] = 'display_data';\n",
              "          await google.colab.output.renderOutput(dataTable, element);\n",
              "          const docLink = document.createElement('div');\n",
              "          docLink.innerHTML = docLinkHtml;\n",
              "          element.appendChild(docLink);\n",
              "        }\n",
              "      </script>\n",
              "    </div>\n",
              "  </div>\n",
              "  "
            ],
            "text/plain": [
              "             pob_millones  pib_real_millones  pib_percapita\n",
              "codigo_pais                                                \n",
              "BRA                 208.0       2.876975e+06   13831.609080\n",
              "CHN                1406.0       1.787221e+07   12710.668347\n",
              "IDN                 262.0       2.720050e+06   10380.906123\n",
              "IND                1331.5       8.297552e+06    6230.651616\n",
              "USA                 323.0       1.758565e+07   54443.408481"
            ]
          },
          "metadata": {},
          "execution_count": 42
        }
      ],
      "execution_count": 42
    },
    {
      "cell_type": "markdown",
      "source": [
        ">**Ejercicio 3:** Generar un nuevo dataframe llamado `df_final` realizando un agrupamiento por el `codigo_pais` obteniendo los valores máximos y mínimos `['max', 'min']` del dataframe `df_percapita`"
      ],
      "metadata": {
        "application/vnd.databricks.v1+cell": {
          "title": "",
          "showTitle": false,
          "inputWidgets": {},
          "nuid": "0dd0e184-6659-4a17-9db1-4533c54528ed"
        },
        "id": "JDlAOi4_MNIS"
      }
    },
    {
      "cell_type": "code",
      "source": [
        "#Su código aquí\n"
      ],
      "metadata": {
        "application/vnd.databricks.v1+cell": {
          "title": "",
          "showTitle": false,
          "inputWidgets": {},
          "nuid": "0d7f2359-4a53-490c-b82a-2a183728f695"
        },
        "id": "ZGUmcpWvMNIS"
      },
      "outputs": [],
      "execution_count": 43
    },
    {
      "cell_type": "markdown",
      "source": [
        "### Solución"
      ],
      "metadata": {
        "id": "AMeQExR2M61O"
      }
    },
    {
      "cell_type": "code",
      "source": [
        "df_final = df_percapita.groupby(by = 'codigo_pais').agg(['max', 'min'])\n",
        "df_final"
      ],
      "metadata": {
        "application/vnd.databricks.v1+cell": {
          "title": "",
          "showTitle": false,
          "inputWidgets": {},
          "nuid": "d040624b-8811-41a6-b0bb-85075156e6cd"
        },
        "colab": {
          "base_uri": "https://localhost:8080/",
          "height": 269
        },
        "id": "N8Z6xnzNMNIS",
        "outputId": "87384630-5f79-4c51-b07b-dede92f18aef"
      },
      "outputs": [
        {
          "output_type": "execute_result",
          "data": {
            "text/html": [
              "\n",
              "  <div id=\"df-f95a1585-32bd-41ac-b86a-999f6c122ec3\">\n",
              "    <div class=\"colab-df-container\">\n",
              "      <div>\n",
              "<style scoped>\n",
              "    .dataframe tbody tr th:only-of-type {\n",
              "        vertical-align: middle;\n",
              "    }\n",
              "\n",
              "    .dataframe tbody tr th {\n",
              "        vertical-align: top;\n",
              "    }\n",
              "\n",
              "    .dataframe thead tr th {\n",
              "        text-align: left;\n",
              "    }\n",
              "\n",
              "    .dataframe thead tr:last-of-type th {\n",
              "        text-align: right;\n",
              "    }\n",
              "</style>\n",
              "<table border=\"1\" class=\"dataframe\">\n",
              "  <thead>\n",
              "    <tr>\n",
              "      <th></th>\n",
              "      <th colspan=\"2\" halign=\"left\">year</th>\n",
              "      <th colspan=\"2\" halign=\"left\">pob_millones</th>\n",
              "      <th colspan=\"2\" halign=\"left\">pib_real_millones</th>\n",
              "      <th colspan=\"2\" halign=\"left\">pib_percapita</th>\n",
              "    </tr>\n",
              "    <tr>\n",
              "      <th></th>\n",
              "      <th>max</th>\n",
              "      <th>min</th>\n",
              "      <th>max</th>\n",
              "      <th>min</th>\n",
              "      <th>max</th>\n",
              "      <th>min</th>\n",
              "      <th>max</th>\n",
              "      <th>min</th>\n",
              "    </tr>\n",
              "    <tr>\n",
              "      <th>codigo_pais</th>\n",
              "      <th></th>\n",
              "      <th></th>\n",
              "      <th></th>\n",
              "      <th></th>\n",
              "      <th></th>\n",
              "      <th></th>\n",
              "      <th></th>\n",
              "      <th></th>\n",
              "    </tr>\n",
              "  </thead>\n",
              "  <tbody>\n",
              "    <tr>\n",
              "      <th>BRA</th>\n",
              "      <td>2017-01-01</td>\n",
              "      <td>2016-01-01</td>\n",
              "      <td>209</td>\n",
              "      <td>207</td>\n",
              "      <td>2890897.5</td>\n",
              "      <td>2863052.75</td>\n",
              "      <td>13832.045455</td>\n",
              "      <td>13831.172705</td>\n",
              "    </tr>\n",
              "    <tr>\n",
              "      <th>CHN</th>\n",
              "      <td>2017-01-01</td>\n",
              "      <td>2016-01-01</td>\n",
              "      <td>1409</td>\n",
              "      <td>1403</td>\n",
              "      <td>18383838.0</td>\n",
              "      <td>17360582.00</td>\n",
              "      <td>13047.436480</td>\n",
              "      <td>12373.900214</td>\n",
              "    </tr>\n",
              "    <tr>\n",
              "      <th>IDN</th>\n",
              "      <td>2017-01-01</td>\n",
              "      <td>2016-01-01</td>\n",
              "      <td>263</td>\n",
              "      <td>261</td>\n",
              "      <td>2796742.5</td>\n",
              "      <td>2643358.50</td>\n",
              "      <td>10634.001901</td>\n",
              "      <td>10127.810345</td>\n",
              "    </tr>\n",
              "    <tr>\n",
              "      <th>IND</th>\n",
              "      <td>2017-01-01</td>\n",
              "      <td>2016-01-01</td>\n",
              "      <td>1339</td>\n",
              "      <td>1324</td>\n",
              "      <td>8599774.0</td>\n",
              "      <td>7995329.50</td>\n",
              "      <td>6422.534727</td>\n",
              "      <td>6038.768505</td>\n",
              "    </tr>\n",
              "    <tr>\n",
              "      <th>USA</th>\n",
              "      <td>2017-01-01</td>\n",
              "      <td>2016-01-01</td>\n",
              "      <td>324</td>\n",
              "      <td>322</td>\n",
              "      <td>17778680.0</td>\n",
              "      <td>17392620.00</td>\n",
              "      <td>54872.469136</td>\n",
              "      <td>54014.347826</td>\n",
              "    </tr>\n",
              "  </tbody>\n",
              "</table>\n",
              "</div>\n",
              "      <button class=\"colab-df-convert\" onclick=\"convertToInteractive('df-f95a1585-32bd-41ac-b86a-999f6c122ec3')\"\n",
              "              title=\"Convert this dataframe to an interactive table.\"\n",
              "              style=\"display:none;\">\n",
              "        \n",
              "  <svg xmlns=\"http://www.w3.org/2000/svg\" height=\"24px\"viewBox=\"0 0 24 24\"\n",
              "       width=\"24px\">\n",
              "    <path d=\"M0 0h24v24H0V0z\" fill=\"none\"/>\n",
              "    <path d=\"M18.56 5.44l.94 2.06.94-2.06 2.06-.94-2.06-.94-.94-2.06-.94 2.06-2.06.94zm-11 1L8.5 8.5l.94-2.06 2.06-.94-2.06-.94L8.5 2.5l-.94 2.06-2.06.94zm10 10l.94 2.06.94-2.06 2.06-.94-2.06-.94-.94-2.06-.94 2.06-2.06.94z\"/><path d=\"M17.41 7.96l-1.37-1.37c-.4-.4-.92-.59-1.43-.59-.52 0-1.04.2-1.43.59L10.3 9.45l-7.72 7.72c-.78.78-.78 2.05 0 2.83L4 21.41c.39.39.9.59 1.41.59.51 0 1.02-.2 1.41-.59l7.78-7.78 2.81-2.81c.8-.78.8-2.07 0-2.86zM5.41 20L4 18.59l7.72-7.72 1.47 1.35L5.41 20z\"/>\n",
              "  </svg>\n",
              "      </button>\n",
              "      \n",
              "  <style>\n",
              "    .colab-df-container {\n",
              "      display:flex;\n",
              "      flex-wrap:wrap;\n",
              "      gap: 12px;\n",
              "    }\n",
              "\n",
              "    .colab-df-convert {\n",
              "      background-color: #E8F0FE;\n",
              "      border: none;\n",
              "      border-radius: 50%;\n",
              "      cursor: pointer;\n",
              "      display: none;\n",
              "      fill: #1967D2;\n",
              "      height: 32px;\n",
              "      padding: 0 0 0 0;\n",
              "      width: 32px;\n",
              "    }\n",
              "\n",
              "    .colab-df-convert:hover {\n",
              "      background-color: #E2EBFA;\n",
              "      box-shadow: 0px 1px 2px rgba(60, 64, 67, 0.3), 0px 1px 3px 1px rgba(60, 64, 67, 0.15);\n",
              "      fill: #174EA6;\n",
              "    }\n",
              "\n",
              "    [theme=dark] .colab-df-convert {\n",
              "      background-color: #3B4455;\n",
              "      fill: #D2E3FC;\n",
              "    }\n",
              "\n",
              "    [theme=dark] .colab-df-convert:hover {\n",
              "      background-color: #434B5C;\n",
              "      box-shadow: 0px 1px 3px 1px rgba(0, 0, 0, 0.15);\n",
              "      filter: drop-shadow(0px 1px 2px rgba(0, 0, 0, 0.3));\n",
              "      fill: #FFFFFF;\n",
              "    }\n",
              "  </style>\n",
              "\n",
              "      <script>\n",
              "        const buttonEl =\n",
              "          document.querySelector('#df-f95a1585-32bd-41ac-b86a-999f6c122ec3 button.colab-df-convert');\n",
              "        buttonEl.style.display =\n",
              "          google.colab.kernel.accessAllowed ? 'block' : 'none';\n",
              "\n",
              "        async function convertToInteractive(key) {\n",
              "          const element = document.querySelector('#df-f95a1585-32bd-41ac-b86a-999f6c122ec3');\n",
              "          const dataTable =\n",
              "            await google.colab.kernel.invokeFunction('convertToInteractive',\n",
              "                                                     [key], {});\n",
              "          if (!dataTable) return;\n",
              "\n",
              "          const docLinkHtml = 'Like what you see? Visit the ' +\n",
              "            '<a target=\"_blank\" href=https://colab.research.google.com/notebooks/data_table.ipynb>data table notebook</a>'\n",
              "            + ' to learn more about interactive tables.';\n",
              "          element.innerHTML = '';\n",
              "          dataTable['output_type'] = 'display_data';\n",
              "          await google.colab.output.renderOutput(dataTable, element);\n",
              "          const docLink = document.createElement('div');\n",
              "          docLink.innerHTML = docLinkHtml;\n",
              "          element.appendChild(docLink);\n",
              "        }\n",
              "      </script>\n",
              "    </div>\n",
              "  </div>\n",
              "  "
            ],
            "text/plain": [
              "                  year             ... pib_percapita              \n",
              "                   max        min  ...           max           min\n",
              "codigo_pais                        ...                            \n",
              "BRA         2017-01-01 2016-01-01  ...  13832.045455  13831.172705\n",
              "CHN         2017-01-01 2016-01-01  ...  13047.436480  12373.900214\n",
              "IDN         2017-01-01 2016-01-01  ...  10634.001901  10127.810345\n",
              "IND         2017-01-01 2016-01-01  ...   6422.534727   6038.768505\n",
              "USA         2017-01-01 2016-01-01  ...  54872.469136  54014.347826\n",
              "\n",
              "[5 rows x 8 columns]"
            ]
          },
          "metadata": {},
          "execution_count": 44
        }
      ],
      "execution_count": 44
    },
    {
      "cell_type": "markdown",
      "source": [
        "### Fin"
      ],
      "metadata": {
        "id": "DQh2YxFrM_Uu"
      }
    },
    {
      "cell_type": "markdown",
      "source": [
        "\n",
        "\n",
        "<div style=\"text-align: center; line-height: 0; padding-top: 9px;\">\n",
        "  <img src=\"https://storage.googleapis.com/datasets-academy/public-img/notebooks/headers/databits-footer-notebook.png\" alt=\"Databricks Learning\" style=\"width: 100%;\">\n",
        "</div>"
      ],
      "metadata": {
        "application/vnd.databricks.v1+cell": {
          "title": "",
          "showTitle": false,
          "inputWidgets": {},
          "nuid": "b0717d6f-234c-40bc-bac4-7c55ba4d04f2"
        },
        "id": "WqAxmeT0MNIS"
      }
    }
  ],
  "metadata": {
    "language_info": {
      "mimetype": "text/x-python",
      "name": "python",
      "pygments_lexer": "ipython3",
      "codemirror_mode": {
        "name": "ipython",
        "version": 3
      },
      "version": "3.7.3",
      "nbconvert_exporter": "python",
      "file_extension": ".py"
    },
    "name": "IntroPython2_Clase(2h)",
    "notebookId": 4361305204748322,
    "kernelspec": {
      "display_name": "Python 3",
      "language": "python",
      "name": "python3"
    },
    "application/vnd.databricks.v1+notebook": {
      "notebookName": "03 Python - Librerías para Ciencia de Datos",
      "dashboards": [],
      "notebookMetadata": {
        "pythonIndentUnit": 2
      },
      "language": "python",
      "widgets": {},
      "notebookOrigID": 2160096233161531
    },
    "colab": {
      "collapsed_sections": [
        "jn-sTKRpMxdc",
        "anQevJDHM2SB",
        "AMeQExR2M61O"
      ],
      "name": "03 Python - Librerías para Ciencia de Datos.ipynb",
      "provenance": []
    }
  },
  "nbformat": 4,
  "nbformat_minor": 0
}