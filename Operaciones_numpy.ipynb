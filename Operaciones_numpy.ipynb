{
  "nbformat": 4,
  "nbformat_minor": 0,
  "metadata": {
    "colab": {
      "provenance": [],
      "collapsed_sections": [],
      "authorship_tag": "ABX9TyO9i3uurGHlNFRe0+j/BUr4",
      "include_colab_link": true
    },
    "kernelspec": {
      "name": "python3",
      "display_name": "Python 3"
    },
    "language_info": {
      "name": "python"
    }
  },
  "cells": [
    {
      "cell_type": "markdown",
      "metadata": {
        "id": "view-in-github",
        "colab_type": "text"
      },
      "source": [
        "<a href=\"https://colab.research.google.com/github/OscarDJB/CD_Databits/blob/main/Operaciones_numpy.ipynb\" target=\"_parent\"><img src=\"https://colab.research.google.com/assets/colab-badge.svg\" alt=\"Open In Colab\"/></a>"
      ]
    },
    {
      "cell_type": "markdown",
      "source": [
        "A continuación algunas de las funciones más utilizados en NumPy (siendo X un ndarray): - Suma: np.sum(X) - Raíz cuadrada: np.sqrt(X) - Promedio: np.mean(X) - Varianza: np.var(X) - Ordenamiento: np.sort(X) - Maximo, Minimo: np.max(X), np.min(X) - Indice de posición del valor Maximo: np.argmax(X) - Indice de posición del valor Minimo: np.argmin(X)"
      ],
      "metadata": {
        "id": "XLhOYQpmyVkc"
      }
    },
    {
      "cell_type": "code",
      "execution_count": 30,
      "metadata": {
        "colab": {
          "base_uri": "https://localhost:8080/"
        },
        "id": "nBgzV6RvyELZ",
        "outputId": "3e920099-57fb-478b-a441-cc1c9de015cf"
      },
      "outputs": [
        {
          "output_type": "stream",
          "name": "stdout",
          "text": [
            "[[  1   2   3 ...  98  99 100]\n",
            " [  4   5   6 ... 101 102 103]\n",
            " [  2   3   4 ...  99 100 101]\n",
            " ...\n",
            " [  4   5   6 ... 101 102 103]\n",
            " [  2   3   4 ...  99 100 101]\n",
            " [  1   2   3 ...  98  99 100]]\n",
            "52.11224489795919\n",
            "52.05102040816327\n",
            "(49, 100)\n",
            "(49, 100)\n",
            "(98, 100)\n",
            "[[  2   3   4 ...  99 100 101]\n",
            " [  2   3   4 ...  99 100 101]\n",
            " [  2   3   4 ...  99 100 101]\n",
            " ...\n",
            " [  4   5   6 ... 101 102 103]\n",
            " [  4   5   6 ... 101 102 103]\n",
            " [  3   4   5 ... 100 101 102]]\n",
            "(1, 9800)\n"
          ]
        }
      ],
      "source": [
        "import numpy as np\n",
        "\n",
        "x = np.array(list(range(100)))\n",
        "\n",
        "#print(x)\n",
        "np.random.seed(0)\n",
        "y = np.random.randint(1,5,(100,1)) \n",
        "z = x + y\n",
        "\n",
        "print(z)\n",
        "\n",
        "\n",
        "print(np.mean(z[0:49]))\n",
        "print(np.mean(z[51:]))\n",
        "\n",
        "A = z[0:49]\n",
        "B = z[51:]\n",
        "\n",
        "print(A.shape)\n",
        "print(B.shape)\n",
        "\n",
        "C= np.concatenate((B,A), axis=0)\n",
        "print(C.shape)\n",
        "print(C)\n",
        "\n",
        "C = C.reshape(1,9800)\n",
        "print(C.shape)\n",
        "print(C)"
      ]
    }
  ]
}